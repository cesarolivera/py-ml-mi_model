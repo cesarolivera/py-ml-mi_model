{
 "cells": [
  {
   "cell_type": "code",
   "execution_count": 3,
   "id": "875eecbc",
   "metadata": {},
   "outputs": [],
   "source": [
    "import pandas as pd\n",
    "import numpy as np"
   ]
  },
  {
   "cell_type": "code",
   "execution_count": 5,
   "id": "aff4e714",
   "metadata": {},
   "outputs": [],
   "source": [
    "mi_df =  pd.read_csv(\n",
    "    'data/01_data_cruda/MI_data.csv', \n",
    "    header=0, \n",
    "    sep=\",\"\n",
    ")"
   ]
  },
  {
   "cell_type": "code",
   "execution_count": 6,
   "id": "4ee27d40",
   "metadata": {},
   "outputs": [
    {
     "data": {
      "text/plain": [
       "1700"
      ]
     },
     "execution_count": 6,
     "metadata": {},
     "output_type": "execute_result"
    }
   ],
   "source": [
    "len(mi_df)"
   ]
  },
  {
   "cell_type": "code",
   "execution_count": null,
   "id": "dbfb4f00",
   "metadata": {},
   "outputs": [],
   "source": [
    "mi_df.columns.tolist()"
   ]
  },
  {
   "cell_type": "code",
   "execution_count": null,
   "id": "cc3e83c8",
   "metadata": {},
   "outputs": [],
   "source": [
    "mi_df[\"REC_IM\"].unique()"
   ]
  },
  {
   "cell_type": "code",
   "execution_count": null,
   "id": "bd06e4e4",
   "metadata": {},
   "outputs": [],
   "source": []
  }
 ],
 "metadata": {
  "kernelspec": {
   "display_name": "Python 3",
   "language": "python",
   "name": "python3"
  },
  "language_info": {
   "codemirror_mode": {
    "name": "ipython",
    "version": 3
   },
   "file_extension": ".py",
   "mimetype": "text/x-python",
   "name": "python",
   "nbconvert_exporter": "python",
   "pygments_lexer": "ipython3",
   "version": "3.8.8"
  }
 },
 "nbformat": 4,
 "nbformat_minor": 5
}
