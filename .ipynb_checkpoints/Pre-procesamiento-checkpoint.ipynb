{
 "cells": [
  {
   "cell_type": "code",
   "execution_count": 2,
   "id": "875eecbc",
   "metadata": {},
   "outputs": [],
   "source": [
    "import pandas as pd\n",
    "import numpy as np"
   ]
  },
  {
   "cell_type": "code",
   "execution_count": 3,
   "id": "aff4e714",
   "metadata": {},
   "outputs": [],
   "source": [
    "mi_df =  pd.read_csv(\n",
    "    'data/MI_database.csv', \n",
    "    header=0, \n",
    "    sep=\",\"\n",
    ")"
   ]
  },
  {
   "cell_type": "code",
   "execution_count": 14,
   "id": "4ee27d40",
   "metadata": {},
   "outputs": [
    {
     "data": {
      "text/plain": [
       "1700"
      ]
     },
     "execution_count": 14,
     "metadata": {},
     "output_type": "execute_result"
    }
   ],
   "source": [
    "len(mi_df)"
   ]
  },
  {
   "cell_type": "code",
   "execution_count": 20,
   "id": "dbfb4f00",
   "metadata": {},
   "outputs": [
    {
     "data": {
      "text/plain": [
       "['ID',\n",
       " 'AGE',\n",
       " 'SEX',\n",
       " 'INF_ANAM',\n",
       " 'STENOK_AN',\n",
       " 'FK_STENOK',\n",
       " 'IBS_POST',\n",
       " 'IBS_NASL',\n",
       " 'GB',\n",
       " 'SIM_GIPERT',\n",
       " 'DLIT_AG',\n",
       " 'ZSN_A',\n",
       " 'nr_11',\n",
       " 'nr_01',\n",
       " 'nr_02',\n",
       " 'nr_03',\n",
       " 'nr_04',\n",
       " 'nr_07',\n",
       " 'nr_08',\n",
       " 'np_01',\n",
       " 'np_04',\n",
       " 'np_05',\n",
       " 'np_07',\n",
       " 'np_08',\n",
       " 'np_09',\n",
       " 'np_10',\n",
       " 'endocr_01',\n",
       " 'endocr_02',\n",
       " 'endocr_03',\n",
       " 'zab_leg_01',\n",
       " 'zab_leg_02',\n",
       " 'zab_leg_03',\n",
       " 'zab_leg_04',\n",
       " 'zab_leg_06',\n",
       " 'S_AD_KBRIG',\n",
       " 'D_AD_KBRIG',\n",
       " 'S_AD_ORIT',\n",
       " 'D_AD_ORIT',\n",
       " 'O_L_POST',\n",
       " 'K_SH_POST',\n",
       " 'MP_TP_POST',\n",
       " 'SVT_POST',\n",
       " 'GT_POST',\n",
       " 'FIB_G_POST',\n",
       " 'ant_im',\n",
       " 'lat_im',\n",
       " 'inf_im',\n",
       " 'post_im',\n",
       " 'IM_PG_P',\n",
       " 'ritm_ecg_p_01',\n",
       " 'ritm_ecg_p_02',\n",
       " 'ritm_ecg_p_04',\n",
       " 'ritm_ecg_p_06',\n",
       " 'ritm_ecg_p_07',\n",
       " 'ritm_ecg_p_08',\n",
       " 'n_r_ecg_p_01',\n",
       " 'n_r_ecg_p_02',\n",
       " 'n_r_ecg_p_03',\n",
       " 'n_r_ecg_p_04',\n",
       " 'n_r_ecg_p_05',\n",
       " 'n_r_ecg_p_06',\n",
       " 'n_r_ecg_p_08',\n",
       " 'n_r_ecg_p_09',\n",
       " 'n_r_ecg_p_10',\n",
       " 'n_p_ecg_p_01',\n",
       " 'n_p_ecg_p_03',\n",
       " 'n_p_ecg_p_04',\n",
       " 'n_p_ecg_p_05',\n",
       " 'n_p_ecg_p_06',\n",
       " 'n_p_ecg_p_07',\n",
       " 'n_p_ecg_p_08',\n",
       " 'n_p_ecg_p_09',\n",
       " 'n_p_ecg_p_10',\n",
       " 'n_p_ecg_p_11',\n",
       " 'n_p_ecg_p_12',\n",
       " 'fibr_ter_01',\n",
       " 'fibr_ter_02',\n",
       " 'fibr_ter_03',\n",
       " 'fibr_ter_05',\n",
       " 'fibr_ter_06',\n",
       " 'fibr_ter_07',\n",
       " 'fibr_ter_08',\n",
       " 'GIPO_K',\n",
       " 'K_BLOOD',\n",
       " 'GIPER_NA',\n",
       " 'NA_BLOOD',\n",
       " 'ALT_BLOOD',\n",
       " 'AST_BLOOD',\n",
       " 'KFK_BLOOD',\n",
       " 'L_BLOOD',\n",
       " 'ROE',\n",
       " 'TIME_B_S',\n",
       " 'R_AB_1_n',\n",
       " 'R_AB_2_n',\n",
       " 'R_AB_3_n',\n",
       " 'NA_KB',\n",
       " 'NOT_NA_KB',\n",
       " 'LID_KB',\n",
       " 'NITR_S',\n",
       " 'NA_R_1_n',\n",
       " 'NA_R_2_n',\n",
       " 'NA_R_3_n',\n",
       " 'NOT_NA_1_n',\n",
       " 'NOT_NA_2_n',\n",
       " 'NOT_NA_3_n',\n",
       " 'LID_S_n',\n",
       " 'B_BLOK_S_n',\n",
       " 'ANT_CA_S_n',\n",
       " 'GEPAR_S_n',\n",
       " 'ASP_S_n',\n",
       " 'TIKL_S_n',\n",
       " 'TRENT_S_n',\n",
       " 'FIBR_PREDS',\n",
       " 'PREDS_TAH',\n",
       " 'JELUD_TAH',\n",
       " 'FIBR_JELUD',\n",
       " 'A_V_BLOK',\n",
       " 'OTEK_LANC',\n",
       " 'RAZRIV',\n",
       " 'DRESSLER',\n",
       " 'ZSN',\n",
       " 'REC_IM',\n",
       " 'P_IM_STEN',\n",
       " 'LET_IS']"
      ]
     },
     "execution_count": 20,
     "metadata": {},
     "output_type": "execute_result"
    }
   ],
   "source": [
    "mi_df.columns.tolist()"
   ]
  },
  {
   "cell_type": "code",
   "execution_count": 22,
   "id": "cc3e83c8",
   "metadata": {},
   "outputs": [
    {
     "data": {
      "text/plain": [
       "array([0, 1], dtype=int64)"
      ]
     },
     "execution_count": 22,
     "metadata": {},
     "output_type": "execute_result"
    }
   ],
   "source": [
    "mi_df[\"REC_IM\"].unique()"
   ]
  },
  {
   "cell_type": "code",
   "execution_count": null,
   "id": "bd06e4e4",
   "metadata": {},
   "outputs": [],
   "source": []
  }
 ],
 "metadata": {
  "kernelspec": {
   "display_name": "Python 3",
   "language": "python",
   "name": "python3"
  },
  "language_info": {
   "codemirror_mode": {
    "name": "ipython",
    "version": 3
   },
   "file_extension": ".py",
   "mimetype": "text/x-python",
   "name": "python",
   "nbconvert_exporter": "python",
   "pygments_lexer": "ipython3",
   "version": "3.8.8"
  }
 },
 "nbformat": 4,
 "nbformat_minor": 5
}
