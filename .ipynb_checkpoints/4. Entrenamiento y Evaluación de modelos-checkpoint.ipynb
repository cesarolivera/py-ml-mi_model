{
 "cells": [
  {
   "cell_type": "markdown",
   "id": "e11fadc2",
   "metadata": {},
   "source": [
    "# Pasos:\n",
    "\n",
    "1. Particionar datos de Entrenamiento (80%) y Pruebas(20%) \n",
    "2. Entrenar Modelos a evaluar:\n",
    "    - XGBoost\n",
    "    - SVM\n",
    "    - Ensamble Modelo (RandomForest o Arbol de decisión)\n",
    "3. Evaluar los hiperparametros (RandomSearchCV)\n",
    "4. Entrenar modelos con mejores hiperparámetros encontrados en 3.\n",
    "5. Evaluar modelos con data de pruebas (Accuracy)"
   ]
  },
  {
   "cell_type": "markdown",
   "id": "75965c7c",
   "metadata": {},
   "source": [
    "## 1) Lectura de datos - Distribución de conjunto de datos\n",
    "\n",
    "La distribución del conjunto de datos será de la siguiente manera: \n",
    "\n",
    "- Entrenamiento (80%)\n",
    "- Pruebas (20%)\n",
    "\n",
    "--- Ya fue aplicado en 2. Pre-procesamiento de datos"
   ]
  },
  {
   "cell_type": "code",
   "execution_count": 27,
   "id": "1815862a",
   "metadata": {},
   "outputs": [],
   "source": [
    "import pandas as pd\n",
    "import numpy as np\n",
    "import os\n",
    "import csv\n",
    "import matplotlib.pyplot as plt\n",
    "\n",
    "from sklearn import preprocessing, neighbors\n",
    "from sklearn.model_selection import cross_validate\n",
    "from sklearn.model_selection import train_test_split\n",
    "from sklearn.ensemble import RandomForestClassifier\n",
    "from sklearn.metrics import accuracy_score\n",
    "from pprint import pprint\n",
    "\n",
    "from sklearn.model_selection import RandomizedSearchCV"
   ]
  },
  {
   "cell_type": "code",
   "execution_count": 2,
   "id": "b4653298",
   "metadata": {},
   "outputs": [],
   "source": [
    "#Lectura del dataset\n",
    "\n",
    "X_train =  pd.read_csv(\n",
    "    'data/03_entrada_modelo/X_MI_entrenamiento_caracterizado.csv', \n",
    "    header=0, \n",
    "    sep=\",\"\n",
    ")\n",
    "X_test =  pd.read_csv(\n",
    "    'data/03_entrada_modelo/X_MI_pruebas_caracterizado.csv', \n",
    "    header=0, \n",
    "    sep=\",\"\n",
    ")\n",
    "y_train =  pd.read_csv(\n",
    "    'data/03_entrada_modelo/y_MI_entrenamiento_caracterizado.csv', \n",
    "    header=0, \n",
    "    sep=\",\"\n",
    ")\n",
    "y_test =  pd.read_csv(\n",
    "    'data/03_entrada_modelo/y_MI_pruebas_caracterizado.csv', \n",
    "    header=0, \n",
    "    sep=\",\"\n",
    ")"
   ]
  },
  {
   "cell_type": "markdown",
   "id": "8a75200b",
   "metadata": {},
   "source": [
    "## 2) Entrenar Modelos a evaluar"
   ]
  },
  {
   "cell_type": "code",
   "execution_count": 39,
   "id": "fde236e4",
   "metadata": {},
   "outputs": [],
   "source": [
    "## Resultados con la métrica de exactitud (Accuracy) de cada uno de los modelos.\n",
    "resultados_modelo_acc = pd.DataFrame(columns=[\"Modelo\",\"Accuracy\"])"
   ]
  },
  {
   "cell_type": "markdown",
   "id": "f18456e2",
   "metadata": {},
   "source": [
    "### 2.1) Random Forest\n",
    "\n",
    "Entrenamos el modelo de Random Forest de tipo clasificación."
   ]
  },
  {
   "cell_type": "code",
   "execution_count": 3,
   "id": "60087c57",
   "metadata": {
    "scrolled": true
   },
   "outputs": [
    {
     "name": "stderr",
     "output_type": "stream",
     "text": [
      "<ipython-input-3-ddb954a81c03>:2: DataConversionWarning: A column-vector y was passed when a 1d array was expected. Please change the shape of y to (n_samples,), for example using ravel().\n",
      "  rf.fit(X_train, y_train)\n"
     ]
    },
    {
     "name": "stdout",
     "output_type": "stream",
     "text": [
      "Exactitud del modelo inicial en entrenamiento: 1.0\n",
      "Exactitud del modelo inicial en entrenamiento (Out of Bag): 0.825735294117647\n",
      "Exactitud del modelo inicial en validación: 0.8088235294117647\n"
     ]
    }
   ],
   "source": [
    "rf = RandomForestClassifier(oob_score = True)\n",
    "rf.fit(X_train, y_train)\n",
    "\n",
    "print('Exactitud del modelo inicial en entrenamiento:', rf.score(X_train, y_train))\n",
    "print('Exactitud del modelo inicial en entrenamiento (Out of Bag):', rf.oob_score_)\n",
    "print('Exactitud del modelo inicial en validación:', rf.score(X_test, y_test))"
   ]
  },
  {
   "cell_type": "markdown",
   "id": "c1015615",
   "metadata": {},
   "source": [
    "#### Búsqueda aleatoria de mejores hiperparámetros"
   ]
  },
  {
   "cell_type": "code",
   "execution_count": 4,
   "id": "c4e4c576",
   "metadata": {},
   "outputs": [
    {
     "name": "stdout",
     "output_type": "stream",
     "text": [
      "Los valores a probar en la búsqueda aleatoria son:\n",
      "{'max_depth': [10, 20, 30, 40, 50, 60, 70, 80, 90, 100, 110, None],\n",
      " 'max_features': ['auto', 10, 11, 12],\n",
      " 'min_samples_leaf': [1, 2, 4],\n",
      " 'n_estimators': [200, 400, 600, 800, 1000, 1200, 1400, 1600, 1800, 2000]}\n",
      "\n",
      "Si se probara todas las combinaciones se requeriría entrenar 1440 modelos\n"
     ]
    }
   ],
   "source": [
    "# Definición de Grilla\n",
    "n_estimators = [int(x) for x in np.linspace(start = 200, stop = 2000, num = 10)]\n",
    "max_features = ['auto', 10, 11, 12]  # 'auto' equivale a 'sqrt'; None equivale a todas\n",
    "max_depth = [int(x) for x in np.linspace(10, 110, num = 11)] + [None]\n",
    "min_samples_leaf = [1, 2, 4]\n",
    "\n",
    "random_grid = {'n_estimators': n_estimators,\n",
    "               'max_features': max_features,\n",
    "               'max_depth': max_depth,\n",
    "               'min_samples_leaf': min_samples_leaf}\n",
    "\n",
    "print('Los valores a probar en la búsqueda aleatoria son:')\n",
    "pprint(random_grid)\n",
    "\n",
    "print()\n",
    "print('Si se probara todas las combinaciones se requeriría entrenar', \n",
    "      len(random_grid['n_estimators']) *\n",
    "      len(random_grid['max_features']) *\n",
    "      len(random_grid['max_depth']) *\n",
    "      len(random_grid['min_samples_leaf']),\n",
    "      'modelos'\n",
    "      )\n",
    "\n",
    "rf = RandomForestClassifier(oob_score=True)\n",
    "rf_random = RandomizedSearchCV(estimator = rf, \n",
    "                               param_distributions = random_grid, \n",
    "                               cv = 3,          # Validación cruzada 3-fold\n",
    "                               verbose=2, \n",
    "                               random_state=0, \n",
    "                               n_jobs = -1      # Paralelizar en todos los cores disponibles\n",
    "                               )\n",
    "rf_random.fit(X_train, y_train)"
   ]
  },
  {
   "cell_type": "code",
   "execution_count": 6,
   "id": "4dd102d9",
   "metadata": {},
   "outputs": [
    {
     "name": "stdout",
     "output_type": "stream",
     "text": [
      "Los hiperparámetros del mejor modelo son:\n",
      "{'max_depth': None,\n",
      " 'max_features': 11,\n",
      " 'min_samples_leaf': 1,\n",
      " 'n_estimators': 800}\n",
      "\n",
      "Exactitud luego de búsqueda aleatoria en entrenamiento: 1.0\n",
      "Exactitud luego de búsqueda aleatoria en entrenamiento (Out of Bag): 0.8529411764705882\n",
      "Exactitud luego de búsqueda aleatoria en validación: 0.8264705882352941\n"
     ]
    }
   ],
   "source": [
    "## Tomamos el mejor estimador encontrado en la búsqueda aleatoria por grilla.\n",
    "rf_random_best = rf_random.best_estimator_\n",
    "\n",
    "print('Los hiperparámetros del mejor modelo son:')\n",
    "pprint(rf_random.best_params_)\n",
    "print()\n",
    "\n",
    "print('Exactitud luego de búsqueda aleatoria en entrenamiento:', rf_random_best.score(X_train, y_train))\n",
    "print('Exactitud luego de búsqueda aleatoria en entrenamiento (Out of Bag):', rf_random_best.oob_score_)\n",
    "print('Exactitud luego de búsqueda aleatoria en validación:', rf_random_best.score(X_test, y_test))"
   ]
  },
  {
   "cell_type": "markdown",
   "id": "d169fc0a",
   "metadata": {},
   "source": [
    "### 2.2) Ensamble - XGBoost"
   ]
  },
  {
   "cell_type": "code",
   "execution_count": 7,
   "id": "aff1f527",
   "metadata": {},
   "outputs": [],
   "source": [
    "from xgboost import XGBRegressor\n",
    "from pprint import pprint\n",
    "from sklearn.model_selection import GridSearchCV\n",
    "import time\n",
    "\n",
    "## XGBoostRegressor\n",
    "modelXGBR = XGBRegressor()\n",
    "\n",
    "\n",
    "## Creamos la Grilla\n",
    "n_estimators = [int(x) for x in np.linspace(start = 100, stop = 500, num = 5)]\n",
    "learning_rate = [0.01,0.1]\n",
    "max_depth = [i for i in range(2,8,2)]\n",
    "start = time.time()\n",
    "\n",
    "random_grid = {'max_depth': max_depth,\n",
    "               'n_estimators': n_estimators,\n",
    "               'colsample_bytree': [0.2, 0.6, 0.8],\n",
    "               'min_child_weight': [3, 5, 7],\n",
    "               'gamma': [0.3, 0.5, 0.7],\n",
    "               'subsample': [0.4, 0.6, 0.8, 1],\n",
    "               'learning_rate': learning_rate}"
   ]
  },
  {
   "cell_type": "markdown",
   "id": "4f50ed8d",
   "metadata": {},
   "source": [
    "#### Búsqueda aleatoria de mejores hiperparámetros"
   ]
  },
  {
   "cell_type": "code",
   "execution_count": 8,
   "id": "8ca8cf47",
   "metadata": {},
   "outputs": [
    {
     "name": "stdout",
     "output_type": "stream",
     "text": [
      "Fitting 3 folds for each of 10 candidates, totalling 30 fits\n"
     ]
    },
    {
     "data": {
      "text/html": [
       "<style>#sk-container-id-2 {color: black;background-color: white;}#sk-container-id-2 pre{padding: 0;}#sk-container-id-2 div.sk-toggleable {background-color: white;}#sk-container-id-2 label.sk-toggleable__label {cursor: pointer;display: block;width: 100%;margin-bottom: 0;padding: 0.3em;box-sizing: border-box;text-align: center;}#sk-container-id-2 label.sk-toggleable__label-arrow:before {content: \"▸\";float: left;margin-right: 0.25em;color: #696969;}#sk-container-id-2 label.sk-toggleable__label-arrow:hover:before {color: black;}#sk-container-id-2 div.sk-estimator:hover label.sk-toggleable__label-arrow:before {color: black;}#sk-container-id-2 div.sk-toggleable__content {max-height: 0;max-width: 0;overflow: hidden;text-align: left;background-color: #f0f8ff;}#sk-container-id-2 div.sk-toggleable__content pre {margin: 0.2em;color: black;border-radius: 0.25em;background-color: #f0f8ff;}#sk-container-id-2 input.sk-toggleable__control:checked~div.sk-toggleable__content {max-height: 200px;max-width: 100%;overflow: auto;}#sk-container-id-2 input.sk-toggleable__control:checked~label.sk-toggleable__label-arrow:before {content: \"▾\";}#sk-container-id-2 div.sk-estimator input.sk-toggleable__control:checked~label.sk-toggleable__label {background-color: #d4ebff;}#sk-container-id-2 div.sk-label input.sk-toggleable__control:checked~label.sk-toggleable__label {background-color: #d4ebff;}#sk-container-id-2 input.sk-hidden--visually {border: 0;clip: rect(1px 1px 1px 1px);clip: rect(1px, 1px, 1px, 1px);height: 1px;margin: -1px;overflow: hidden;padding: 0;position: absolute;width: 1px;}#sk-container-id-2 div.sk-estimator {font-family: monospace;background-color: #f0f8ff;border: 1px dotted black;border-radius: 0.25em;box-sizing: border-box;margin-bottom: 0.5em;}#sk-container-id-2 div.sk-estimator:hover {background-color: #d4ebff;}#sk-container-id-2 div.sk-parallel-item::after {content: \"\";width: 100%;border-bottom: 1px solid gray;flex-grow: 1;}#sk-container-id-2 div.sk-label:hover label.sk-toggleable__label {background-color: #d4ebff;}#sk-container-id-2 div.sk-serial::before {content: \"\";position: absolute;border-left: 1px solid gray;box-sizing: border-box;top: 0;bottom: 0;left: 50%;z-index: 0;}#sk-container-id-2 div.sk-serial {display: flex;flex-direction: column;align-items: center;background-color: white;padding-right: 0.2em;padding-left: 0.2em;position: relative;}#sk-container-id-2 div.sk-item {position: relative;z-index: 1;}#sk-container-id-2 div.sk-parallel {display: flex;align-items: stretch;justify-content: center;background-color: white;position: relative;}#sk-container-id-2 div.sk-item::before, #sk-container-id-2 div.sk-parallel-item::before {content: \"\";position: absolute;border-left: 1px solid gray;box-sizing: border-box;top: 0;bottom: 0;left: 50%;z-index: -1;}#sk-container-id-2 div.sk-parallel-item {display: flex;flex-direction: column;z-index: 1;position: relative;background-color: white;}#sk-container-id-2 div.sk-parallel-item:first-child::after {align-self: flex-end;width: 50%;}#sk-container-id-2 div.sk-parallel-item:last-child::after {align-self: flex-start;width: 50%;}#sk-container-id-2 div.sk-parallel-item:only-child::after {width: 0;}#sk-container-id-2 div.sk-dashed-wrapped {border: 1px dashed gray;margin: 0 0.4em 0.5em 0.4em;box-sizing: border-box;padding-bottom: 0.4em;background-color: white;}#sk-container-id-2 div.sk-label label {font-family: monospace;font-weight: bold;display: inline-block;line-height: 1.2em;}#sk-container-id-2 div.sk-label-container {text-align: center;}#sk-container-id-2 div.sk-container {/* jupyter's `normalize.less` sets `[hidden] { display: none; }` but bootstrap.min.css set `[hidden] { display: none !important; }` so we also need the `!important` here to be able to override the default hidden behavior on the sphinx rendered scikit-learn.org. See: https://github.com/scikit-learn/scikit-learn/issues/21755 */display: inline-block !important;position: relative;}#sk-container-id-2 div.sk-text-repr-fallback {display: none;}</style><div id=\"sk-container-id-2\" class=\"sk-top-container\"><div class=\"sk-text-repr-fallback\"><pre>RandomizedSearchCV(cv=3,\n",
       "                   estimator=XGBRegressor(base_score=None, booster=None,\n",
       "                                          colsample_bylevel=None,\n",
       "                                          colsample_bynode=None,\n",
       "                                          colsample_bytree=None,\n",
       "                                          enable_categorical=False, gamma=None,\n",
       "                                          gpu_id=None, importance_type=None,\n",
       "                                          interaction_constraints=None,\n",
       "                                          learning_rate=None,\n",
       "                                          max_delta_step=None, max_depth=None,\n",
       "                                          min_child_weight=None, missing=nan,\n",
       "                                          monotone_constraints=...\n",
       "                                          reg_alpha=None, reg_lambda=None,\n",
       "                                          scale_pos_weight=None, subsample=None,\n",
       "                                          tree_method=None,\n",
       "                                          validate_parameters=None,\n",
       "                                          verbosity=None),\n",
       "                   n_jobs=-1,\n",
       "                   param_distributions={&#x27;colsample_bytree&#x27;: [0.2, 0.6, 0.8],\n",
       "                                        &#x27;gamma&#x27;: [0.3, 0.5, 0.7],\n",
       "                                        &#x27;learning_rate&#x27;: [0.01, 0.1],\n",
       "                                        &#x27;max_depth&#x27;: [2, 4, 6],\n",
       "                                        &#x27;min_child_weight&#x27;: [3, 5, 7],\n",
       "                                        &#x27;n_estimators&#x27;: [100, 200, 300, 400,\n",
       "                                                         500],\n",
       "                                        &#x27;subsample&#x27;: [0.4, 0.6, 0.8, 1]},\n",
       "                   random_state=0, verbose=2)</pre><b>In a Jupyter environment, please rerun this cell to show the HTML representation or trust the notebook. <br />On GitHub, the HTML representation is unable to render, please try loading this page with nbviewer.org.</b></div><div class=\"sk-container\" hidden><div class=\"sk-item sk-dashed-wrapped\"><div class=\"sk-label-container\"><div class=\"sk-label sk-toggleable\"><input class=\"sk-toggleable__control sk-hidden--visually\" id=\"sk-estimator-id-4\" type=\"checkbox\" ><label for=\"sk-estimator-id-4\" class=\"sk-toggleable__label sk-toggleable__label-arrow\">RandomizedSearchCV</label><div class=\"sk-toggleable__content\"><pre>RandomizedSearchCV(cv=3,\n",
       "                   estimator=XGBRegressor(base_score=None, booster=None,\n",
       "                                          colsample_bylevel=None,\n",
       "                                          colsample_bynode=None,\n",
       "                                          colsample_bytree=None,\n",
       "                                          enable_categorical=False, gamma=None,\n",
       "                                          gpu_id=None, importance_type=None,\n",
       "                                          interaction_constraints=None,\n",
       "                                          learning_rate=None,\n",
       "                                          max_delta_step=None, max_depth=None,\n",
       "                                          min_child_weight=None, missing=nan,\n",
       "                                          monotone_constraints=...\n",
       "                                          reg_alpha=None, reg_lambda=None,\n",
       "                                          scale_pos_weight=None, subsample=None,\n",
       "                                          tree_method=None,\n",
       "                                          validate_parameters=None,\n",
       "                                          verbosity=None),\n",
       "                   n_jobs=-1,\n",
       "                   param_distributions={&#x27;colsample_bytree&#x27;: [0.2, 0.6, 0.8],\n",
       "                                        &#x27;gamma&#x27;: [0.3, 0.5, 0.7],\n",
       "                                        &#x27;learning_rate&#x27;: [0.01, 0.1],\n",
       "                                        &#x27;max_depth&#x27;: [2, 4, 6],\n",
       "                                        &#x27;min_child_weight&#x27;: [3, 5, 7],\n",
       "                                        &#x27;n_estimators&#x27;: [100, 200, 300, 400,\n",
       "                                                         500],\n",
       "                                        &#x27;subsample&#x27;: [0.4, 0.6, 0.8, 1]},\n",
       "                   random_state=0, verbose=2)</pre></div></div></div><div class=\"sk-parallel\"><div class=\"sk-parallel-item\"><div class=\"sk-item\"><div class=\"sk-label-container\"><div class=\"sk-label sk-toggleable\"><input class=\"sk-toggleable__control sk-hidden--visually\" id=\"sk-estimator-id-5\" type=\"checkbox\" ><label for=\"sk-estimator-id-5\" class=\"sk-toggleable__label sk-toggleable__label-arrow\">estimator: XGBRegressor</label><div class=\"sk-toggleable__content\"><pre>XGBRegressor(base_score=None, booster=None, colsample_bylevel=None,\n",
       "             colsample_bynode=None, colsample_bytree=None,\n",
       "             enable_categorical=False, gamma=None, gpu_id=None,\n",
       "             importance_type=None, interaction_constraints=None,\n",
       "             learning_rate=None, max_delta_step=None, max_depth=None,\n",
       "             min_child_weight=None, missing=nan, monotone_constraints=None,\n",
       "             n_estimators=100, n_jobs=None, num_parallel_tree=None,\n",
       "             predictor=None, random_state=None, reg_alpha=None, reg_lambda=None,\n",
       "             scale_pos_weight=None, subsample=None, tree_method=None,\n",
       "             validate_parameters=None, verbosity=None)</pre></div></div></div><div class=\"sk-serial\"><div class=\"sk-item\"><div class=\"sk-estimator sk-toggleable\"><input class=\"sk-toggleable__control sk-hidden--visually\" id=\"sk-estimator-id-6\" type=\"checkbox\" ><label for=\"sk-estimator-id-6\" class=\"sk-toggleable__label sk-toggleable__label-arrow\">XGBRegressor</label><div class=\"sk-toggleable__content\"><pre>XGBRegressor(base_score=None, booster=None, colsample_bylevel=None,\n",
       "             colsample_bynode=None, colsample_bytree=None,\n",
       "             enable_categorical=False, gamma=None, gpu_id=None,\n",
       "             importance_type=None, interaction_constraints=None,\n",
       "             learning_rate=None, max_delta_step=None, max_depth=None,\n",
       "             min_child_weight=None, missing=nan, monotone_constraints=None,\n",
       "             n_estimators=100, n_jobs=None, num_parallel_tree=None,\n",
       "             predictor=None, random_state=None, reg_alpha=None, reg_lambda=None,\n",
       "             scale_pos_weight=None, subsample=None, tree_method=None,\n",
       "             validate_parameters=None, verbosity=None)</pre></div></div></div></div></div></div></div></div></div></div>"
      ],
      "text/plain": [
       "RandomizedSearchCV(cv=3,\n",
       "                   estimator=XGBRegressor(base_score=None, booster=None,\n",
       "                                          colsample_bylevel=None,\n",
       "                                          colsample_bynode=None,\n",
       "                                          colsample_bytree=None,\n",
       "                                          enable_categorical=False, gamma=None,\n",
       "                                          gpu_id=None, importance_type=None,\n",
       "                                          interaction_constraints=None,\n",
       "                                          learning_rate=None,\n",
       "                                          max_delta_step=None, max_depth=None,\n",
       "                                          min_child_weight=None, missing=nan,\n",
       "                                          monotone_constraints=...\n",
       "                                          reg_alpha=None, reg_lambda=None,\n",
       "                                          scale_pos_weight=None, subsample=None,\n",
       "                                          tree_method=None,\n",
       "                                          validate_parameters=None,\n",
       "                                          verbosity=None),\n",
       "                   n_jobs=-1,\n",
       "                   param_distributions={'colsample_bytree': [0.2, 0.6, 0.8],\n",
       "                                        'gamma': [0.3, 0.5, 0.7],\n",
       "                                        'learning_rate': [0.01, 0.1],\n",
       "                                        'max_depth': [2, 4, 6],\n",
       "                                        'min_child_weight': [3, 5, 7],\n",
       "                                        'n_estimators': [100, 200, 300, 400,\n",
       "                                                         500],\n",
       "                                        'subsample': [0.4, 0.6, 0.8, 1]},\n",
       "                   random_state=0, verbose=2)"
      ]
     },
     "execution_count": 8,
     "metadata": {},
     "output_type": "execute_result"
    }
   ],
   "source": [
    "xgb_random = RandomizedSearchCV(estimator = modelXGBR, \n",
    "                               param_distributions = random_grid, \n",
    "                               cv = 3,          # Validación cruzada 3-fold\n",
    "                               verbose=2, \n",
    "                               random_state=0, \n",
    "                               n_jobs = -1      # Paralelizar en todos los cores disponibles\n",
    "                               )\n",
    "xgb_random.fit(X_train, y_train)"
   ]
  },
  {
   "cell_type": "code",
   "execution_count": 9,
   "id": "24d5f2e2",
   "metadata": {},
   "outputs": [
    {
     "name": "stdout",
     "output_type": "stream",
     "text": [
      "Los hiperparámetros del mejor modelo son:\n",
      "{'colsample_bytree': 0.6,\n",
      " 'gamma': 0.5,\n",
      " 'learning_rate': 0.1,\n",
      " 'max_depth': 2,\n",
      " 'min_child_weight': 5,\n",
      " 'n_estimators': 400,\n",
      " 'subsample': 0.6}\n",
      "\n",
      "****************************************************************************************************\n",
      "Exactitud luego de búsqueda en grilla en entrenamiento: 99.987%\n",
      "Exactitud luego de búsqueda en grilla en validación: 99.711%\n",
      "****************************************************************************************************\n",
      "12.87302279472351 segundos\n"
     ]
    }
   ],
   "source": [
    "## Tomamos el mejor estimador encontrado en la búsqueda aleatoria por grilla.\n",
    "xgb_best_model = xgb_random.best_estimator_\n",
    "\n",
    "print('Los hiperparámetros del mejor modelo son:')\n",
    "pprint(xgb_random.best_params_)\n",
    "print()\n",
    "\n",
    "\n",
    "score_XGBR_train = xgb_best_model.score(X_train, y_train)\n",
    "score_XGBR_val = xgb_best_model.score(X_test, y_test)\n",
    "print(\"*\"*100)\n",
    "print(f\"Exactitud luego de búsqueda en grilla en entrenamiento: {score_XGBR_train*100:.3f}%\")\n",
    "print(f\"Exactitud luego de búsqueda en grilla en validación: {score_XGBR_val*100:.3f}%\")\n",
    "print(\"*\"*100)\n",
    "end = time.time()\n",
    "print(f\"{end-start} segundos\")"
   ]
  },
  {
   "cell_type": "markdown",
   "id": "c6760d65",
   "metadata": {},
   "source": [
    "### 2.3) Ensamble - SVM"
   ]
  },
  {
   "cell_type": "code",
   "execution_count": 10,
   "id": "e2f15711",
   "metadata": {
    "scrolled": false
   },
   "outputs": [
    {
     "name": "stderr",
     "output_type": "stream",
     "text": [
      "D:\\Users\\coliverac\\Anaconda3\\lib\\site-packages\\sklearn\\utils\\validation.py:1111: DataConversionWarning: A column-vector y was passed when a 1d array was expected. Please change the shape of y to (n_samples, ), for example using ravel().\n",
      "  y = column_or_1d(y, warn=True)\n"
     ]
    },
    {
     "name": "stdout",
     "output_type": "stream",
     "text": [
      "R^2: 0.861764705882353\n",
      "R^2: 0.4823529411764706\n"
     ]
    }
   ],
   "source": [
    "from sklearn import svm\n",
    "from sklearn.tree import DecisionTreeClassifier\n",
    "\n",
    "modelSVM = svm.SVC()\n",
    "\n",
    "# Entrenamiento del modelo base - SVM\n",
    "modelSVM.fit(X_train, y_train)\n",
    "score_SVM_train = modelSVM.score(X_train, y_train)\n",
    "score_SVM_test = modelSVM.score(X_test, y_test)\n",
    "\n",
    "\n",
    "print(f\"R^2: {score_SVM_train}\")\n",
    "print(f\"R^2: {score_SVM_test}\")"
   ]
  },
  {
   "cell_type": "markdown",
   "id": "f7f0d270",
   "metadata": {},
   "source": [
    "#### Búsqueda aleatoria de mejores hiperparámetros"
   ]
  },
  {
   "cell_type": "code",
   "execution_count": 36,
   "id": "0f89ca9e",
   "metadata": {},
   "outputs": [
    {
     "name": "stdout",
     "output_type": "stream",
     "text": [
      "Fitting 12 folds for each of 10 candidates, totalling 120 fits\n"
     ]
    },
    {
     "name": "stderr",
     "output_type": "stream",
     "text": [
      "D:\\Users\\coliverac\\Anaconda3\\lib\\site-packages\\sklearn\\model_selection\\_split.py:680: UserWarning: The least populated class in y has only 1 members, which is less than n_splits=12.\n",
      "  warnings.warn(\n",
      "D:\\Users\\coliverac\\Anaconda3\\lib\\site-packages\\sklearn\\utils\\validation.py:1111: DataConversionWarning: A column-vector y was passed when a 1d array was expected. Please change the shape of y to (n_samples, ), for example using ravel().\n",
      "  y = column_or_1d(y, warn=True)\n"
     ]
    },
    {
     "name": "stdout",
     "output_type": "stream",
     "text": [
      "Los hiperparámetros del mejor modelo son:\n",
      "{'C': 100.0, 'gamma': 0.001, 'kernel': 'rbf'}\n",
      "\n",
      "****************************************************************************************************\n",
      "Exactitud luego de búsqueda en grilla en entrenamiento: 0.854\n",
      "Exactitud luego de búsqueda en grilla en validación: 0.821\n",
      "1222.3481879234314\n"
     ]
    }
   ],
   "source": [
    "# Definición de grilla\n",
    "random_grid = {'kernel': ['rbf'],\n",
    "               'C': np.logspace(-4,4,9), # [0.0001, 0.001, ..., 10000]\n",
    "               'gamma': np.logspace(-4,4,9)  # [0.0001, 0.001, ..., 10000]\n",
    "              }\n",
    "\n",
    "modelSVM_random = RandomizedSearchCV(estimator = modelSVM, \n",
    "                               param_distributions = random_grid, \n",
    "                               cv = 12,          # Validación cruzada 3-fold\n",
    "                               verbose=2, \n",
    "                               random_state=0, \n",
    "                               n_jobs = -1      # Paralelizar en todos los cores disponibles\n",
    "                               )\n",
    "modelSVM_random.fit(X_train, y_train)\n",
    "\n",
    "## Tomamos el mejor estimador encontrado en la búsqueda aleatoria por grilla.\n",
    "modelSVM_best_model = modelSVM_random.best_estimator_\n",
    "\n",
    "print('Los hiperparámetros del mejor modelo son:')\n",
    "pprint(modelSVM_random.best_params_)\n",
    "print()\n",
    "\n",
    "\n",
    "score_SVM_train = modelSVM_best_model.score(X_train, y_train)\n",
    "score_SVM_test = modelSVM_best_model.score(X_test, y_test)\n",
    "print(\"*\"*100)\n",
    "print(f\"Exactitud luego de búsqueda en grilla en entrenamiento: {score_SVM_train:.3f}\")\n",
    "print(f\"Exactitud luego de búsqueda en grilla en validación: {score_SVM_test:.3f}\")\n",
    "\n",
    "end = time.time()\n",
    "print(end-start)"
   ]
  }
 ],
 "metadata": {
  "kernelspec": {
   "display_name": "Python 3",
   "language": "python",
   "name": "python3"
  },
  "language_info": {
   "codemirror_mode": {
    "name": "ipython",
    "version": 3
   },
   "file_extension": ".py",
   "mimetype": "text/x-python",
   "name": "python",
   "nbconvert_exporter": "python",
   "pygments_lexer": "ipython3",
   "version": "3.8.8"
  }
 },
 "nbformat": 4,
 "nbformat_minor": 5
}
