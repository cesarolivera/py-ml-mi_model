{
 "cells": [
  {
   "cell_type": "code",
   "execution_count": 1,
   "id": "875eecbc",
   "metadata": {},
   "outputs": [],
   "source": [
    "import pandas as pd\n",
    "import numpy as np\n",
    "import seaborn as sns\n",
    "from sklearn.impute import SimpleImputer"
   ]
  },
  {
   "cell_type": "code",
   "execution_count": 2,
   "id": "aff4e714",
   "metadata": {},
   "outputs": [],
   "source": [
    "mi_df =  pd.read_csv(\n",
    "    'data/01_data_cruda/MI_data.csv', \n",
    "    header=0, \n",
    "    sep=\",\"\n",
    ")"
   ]
  },
  {
   "cell_type": "markdown",
   "id": "7b9e254c",
   "metadata": {},
   "source": [
    "There  are  four  possible  time  moments  for  complication  prediction:  on  base  of  the information known at\n",
    "\n",
    "1.the time of admission to hospital:all input columns (2-112) except 93, 94, 95, 100, 101, 102, 103, 104, 105can be usedfor prediction;\n",
    "\n",
    "2.the end of the first day(24 hours after admission to the hospital):all input columns (2-112) except 94, 95, 101, 102, 104, 105 can be usedfor prediction;\n",
    "\n",
    "3.the end of the second day (48 hours after admission to the hospital) all input columns (2-112) except 95, 102, 105 can be usedfor prediction;\n",
    "\n",
    "4.the end of the third day (72 hours after admission to the hospital) all input columns (2-112) can be usedfor prediction.\n",
    "\n",
    "---\n",
    "\n",
    "\n"
   ]
  },
  {
   "cell_type": "code",
   "execution_count": 3,
   "id": "4ee27d40",
   "metadata": {},
   "outputs": [],
   "source": [
    "# Hacemos referencia a las columnas 2-112 (Variables que pueden ser usadas para la predicción)\n",
    "\n",
    "# Referenciamos columnas con indice de 0 a 111\n",
    "var_objetivo_lst = [\n",
    "    'FIBR_PREDS','PREDS_TAH','JELUD_TAH','FIBR_JELUD',\n",
    "    'A_V_BLOK','OTEK_LANC','RAZRIV','DRESSLER','ZSN',\n",
    "    'REC_IM','P_IM_STEN'\n",
    "    #,'LET_IS'\n",
    "]\n",
    "mi_objetivo_df = mi_df[var_objetivo_lst]\n",
    "mi_predictoras_df = mi_df.iloc[:,0:112]\n",
    "\n",
    "mi_df = pd.concat([mi_predictoras_df, mi_objetivo_df], axis=1, join='inner')\n",
    "# Removemos columnas 93, 94 , 95, 101, 102, 103, 104, 105\n",
    "mi_df.drop(mi_df.columns[[1-1, 93-1, 94-1 , 95-1, 101-1, 102-1, 103-1, 104-1, 105-1]],axis = 1, inplace=True)"
   ]
  },
  {
   "cell_type": "markdown",
   "id": "e7b894ba",
   "metadata": {},
   "source": [
    "### 1. Removemos columnas\n",
    "\n",
    "#### 1.1 Remover columnas que tienen un porcentaje de valores únicos superior al 70%"
   ]
  },
  {
   "cell_type": "code",
   "execution_count": 4,
   "id": "ea3653fe",
   "metadata": {},
   "outputs": [],
   "source": [
    "#Determinamos aquellas columnas (variables) que tengan un porcentaje de filas (registros) únicas por cada columna (variable) mayor al valor de 0.7\n",
    "threshold = 0.7\n",
    "\n",
    "unique_percentages = mi_df.nunique() / len(mi_df)\n",
    "\n",
    "criteria = unique_percentages > threshold\n",
    "\n",
    "columns_to_filter = unique_percentages[criteria].keys()\n",
    "\n",
    "#Eliminamos las columnas (variables) seleccionadas en el paso anterior. Al aplicar \"drop\" obtenemos un nuevo \"DataFrame\", pero con el parámetro\n",
    "#inplace igual a \"True\" podemos realizar dicha operación de eliminación y sobre-escribir el \"DataFrame\" del cual estamos eliminando con el\n",
    "#nuevo \"DataFrame\" obtenido. El parámetro axis permite seleccionar el eje respecto al cual aplicar la operación \"drop\". Los valores válidos\n",
    "#son [0 o \"index\"] y [1 o \"columns\"]\n",
    "mi_df.drop(columns_to_filter, axis=1, inplace=True)"
   ]
  },
  {
   "cell_type": "markdown",
   "id": "3a58d723",
   "metadata": {},
   "source": [
    "### 2. Tratamiento de datos perdidos"
   ]
  },
  {
   "cell_type": "code",
   "execution_count": 5,
   "id": "90d50039",
   "metadata": {},
   "outputs": [],
   "source": [
    "from collections import defaultdict\n",
    "from sklearn import preprocessing "
   ]
  },
  {
   "cell_type": "code",
   "execution_count": 6,
   "id": "210cb3fc",
   "metadata": {},
   "outputs": [],
   "source": [
    "### El dataset solo contiene variables numéricas y no contiene variables categóricas que tengan que ser codificadas\n",
    "\n",
    "# Agrupando columnas por tipo de datos\n",
    "tipos = mi_df.columns.to_series().groupby(mi_df.dtypes).groups\n",
    "\n",
    "# Armando lista de columnas categóricas\n",
    "cint = tipos[np.dtype('int64')]\n",
    "# Armando lista de columnas numéricas\n",
    "cfloat = tipos[np.dtype(\"float64\")]"
   ]
  },
  {
   "cell_type": "code",
   "execution_count": 7,
   "id": "dd0b9781",
   "metadata": {
    "scrolled": true
   },
   "outputs": [],
   "source": [
    "## Para columnas que tengan > 20% de valores perdidos: Eliminar\n",
    "cols_mayor_a_20 = [col for col in mi_df.columns if ((mi_df[col].isnull().sum() / len(mi_df)*100) > 20.0)]\n",
    "\n",
    "mi_df.drop(\n",
    "    cols_mayor_a_20, \n",
    "    axis = 1, \n",
    "    inplace=True\n",
    ")"
   ]
  },
  {
   "cell_type": "code",
   "execution_count": 8,
   "id": "0399ecdc",
   "metadata": {},
   "outputs": [],
   "source": [
    "## Para columnas que tengan entre 15% y 20% de valores perdidos: Imputar con modelos\n",
    "cols_entre_15_y_20 = [\n",
    "    col for col in mi_df.columns if \n",
    "        (((mi_df[col].isnull().sum() / len(mi_df)*100))>=15 and  \n",
    "        ((mi_df[col].isnull().sum() / len(mi_df)*100))<=20)\n",
    "]"
   ]
  },
  {
   "cell_type": "code",
   "execution_count": 9,
   "id": "652e2f10",
   "metadata": {},
   "outputs": [],
   "source": [
    "mi_imp_wt_model_df = mi_df.copy() \n",
    "mi_imp_wt_model_df.drop(\n",
    "    var_objetivo_lst,\n",
    "    axis = 1, \n",
    "    inplace=True\n",
    ")\n",
    "\n",
    "es_null=pd.isna(mi_imp_wt_model_df.loc[:, 'S_AD_ORIT'])\n",
    "#Selecciona solo los que contiene \"True\"\n",
    "df_m_null = mi_imp_wt_model_df.loc[es_null]\n",
    "#df_m_null.info()"
   ]
  },
  {
   "cell_type": "code",
   "execution_count": 10,
   "id": "c8819e6b",
   "metadata": {
    "scrolled": true
   },
   "outputs": [
    {
     "data": {
      "text/plain": [
       "array([ nan, 0.18, 0.11, 0.37, 0.22, 0.45, 0.6 , 0.15, 0.07, 0.38, 0.3 ,\n",
       "       0.26, 0.44, 0.41, 0.52, 0.5 , 0.33, 0.04, 0.67, 0.75, 0.2 , 1.34,\n",
       "       0.4 , 1.12, 0.86, 0.48, 0.96, 1.04, 0.63, 0.14, 0.13, 0.08, 1.2 ,\n",
       "       0.36, 0.9 , 0.82, 0.56, 0.12, 0.57, 0.66, 1.13, 2.15, 0.27, 0.8 ,\n",
       "       0.46, 0.74, 0.23, 0.1 , 0.7 , 1.05, 0.28, 0.68, 0.98, 1.36, 0.71,\n",
       "       1.75, 0.97, 1.08, 0.49])"
      ]
     },
     "execution_count": 10,
     "metadata": {},
     "output_type": "execute_result"
    }
   ],
   "source": [
    "mi_df[\"AST_BLOOD\"].unique()"
   ]
  },
  {
   "cell_type": "code",
   "execution_count": 11,
   "id": "5d154b4a",
   "metadata": {},
   "outputs": [
    {
     "name": "stdout",
     "output_type": "stream",
     "text": [
      "130.0\n",
      "80.0\n",
      "0.15\n",
      "0.15\n"
     ]
    }
   ],
   "source": [
    "for col in cols_entre_15_y_20:\n",
    "    mode = mi_df[col].mode()[0]\n",
    "    print(mode)\n",
    "    mi_df[col].fillna(mode, inplace=True) "
   ]
  },
  {
   "cell_type": "code",
   "execution_count": 12,
   "id": "e4280096",
   "metadata": {},
   "outputs": [],
   "source": [
    "## Para columnas que tengan menos de 15% de valores perdidos: Imputar con Media, Moda y Mediana\n",
    "cols_menor_a_15 = [col for col in mi_df.columns if ((mi_df[col].isnull().sum() / len(mi_df)*100) < 15.0)]"
   ]
  },
  {
   "cell_type": "markdown",
   "id": "769f050d",
   "metadata": {},
   "source": [
    "Notas de la libreria SimpleImputer para el parametro \"strategy\"\n",
    "\n",
    "- Si es \"mean\", reemplace los valores faltantes usando la media a lo largo de cada columna. Solo se puede usar con datos numéricos flotantes (float).\n",
    "\n",
    "- Si es \"median\", reemplace los valores faltantes usando la mediana a lo largo de cada columna. Solo se puede usar con datos numéricos enteros (int).\n",
    "\n",
    "- Si es \"most_frequent\", reemplace falta utilizando el valor más frecuente a lo largo de cada columna. Se puede usar con cadenas o datos numéricos que representan variables categóricas (str/int)."
   ]
  },
  {
   "cell_type": "code",
   "execution_count": 13,
   "id": "8fc6dbd0",
   "metadata": {},
   "outputs": [],
   "source": [
    "imp_media = SimpleImputer(missing_values=np.nan, #etiqueta de valores nulos\n",
    "                    strategy='mean') #método o estrategia de imputación\n",
    "#imp_media es la función con los parámetros ya especificados de nuestra función\n",
    "\n",
    "imp_moda = SimpleImputer(missing_values=np.nan, #etiqueta de valores nulos\n",
    "                    strategy='most_frequent') #método o estrategia de imputación\n",
    "#imp_moda es la función con los parámetros ya especificados de nuestra función"
   ]
  },
  {
   "cell_type": "code",
   "execution_count": 14,
   "id": "42d7f0d2",
   "metadata": {},
   "outputs": [],
   "source": [
    "missing_cols_int_lst = [col for col in cols_menor_a_15 if col in cint]\n",
    "\n",
    "mi_int_limpio_df = imp_moda.fit_transform(mi_df[missing_cols_int_lst])\n",
    "mi_int_limpio_df = pd.DataFrame(mi_int_limpio_df, columns=missing_cols_int_lst)"
   ]
  },
  {
   "cell_type": "code",
   "execution_count": 15,
   "id": "e7ed784d",
   "metadata": {},
   "outputs": [],
   "source": [
    "missing_cols_float_lst = [col for col in cols_menor_a_15 if col in cfloat]\n",
    "\n",
    "mi_float_limpio_df = imp_media.fit_transform(mi_df[missing_cols_float_lst])\n",
    "mi_float_limpio_df = pd.DataFrame(mi_float_limpio_df, columns=missing_cols_float_lst)"
   ]
  },
  {
   "cell_type": "code",
   "execution_count": 16,
   "id": "fef34174",
   "metadata": {},
   "outputs": [],
   "source": [
    "mi_df.drop(\n",
    "    missing_cols_int_lst+missing_cols_float_lst,\n",
    "    axis = 1, \n",
    "    inplace=True\n",
    ")\n",
    "mi_df = pd.concat([mi_df, mi_int_limpio_df],    axis=1, join='inner')\n",
    "mi_df = pd.concat([mi_df, mi_float_limpio_df],  axis=1, join='inner')"
   ]
  },
  {
   "cell_type": "code",
   "execution_count": 17,
   "id": "4d5e6c3b",
   "metadata": {},
   "outputs": [],
   "source": [
    "mi_df[\"COMPLICATION_OUT\"] = mi_df[var_objetivo_lst].apply(\n",
    "    lambda x: x[\"FIBR_PREDS\"]*(2**10)+\n",
    "              x[\"PREDS_TAH\"]*(2**9)+\n",
    "              x[\"JELUD_TAH\"]*(2**8)+\n",
    "              x[\"FIBR_JELUD\"]*(2**7)+\n",
    "              x[\"A_V_BLOK\"]*(2**6)+\n",
    "              x[\"OTEK_LANC\"]*(2**5)+\n",
    "              x[\"RAZRIV\"]*(2**4)+\n",
    "              x[\"DRESSLER\"]*(2**3)+\n",
    "              x[\"ZSN\"]*(2**2)+\n",
    "              x[\"REC_IM\"]*(2**1)+\n",
    "              x[\"P_IM_STEN\"]*(2**0),\n",
    "    axis=1\n",
    ")"
   ]
  },
  {
   "cell_type": "code",
   "execution_count": 18,
   "id": "8d573fef",
   "metadata": {},
   "outputs": [],
   "source": [
    "mi_df[var_objetivo_lst+[\"COMPLICATION_OUT\"]].drop_duplicates().to_csv('data/02_data_intermedia/COMPLICACION_DECOD.csv',index=False)"
   ]
  },
  {
   "cell_type": "code",
   "execution_count": 19,
   "id": "c3ddcb9e",
   "metadata": {},
   "outputs": [],
   "source": [
    "mi_df.drop(\n",
    "    var_objetivo_lst,\n",
    "    axis = 1, \n",
    "    inplace=True\n",
    ")\n",
    "\n",
    "mi_df.to_csv('data/02_data_intermedia/MI_preprocesado.csv',index=False)"
   ]
  },
  {
   "cell_type": "code",
   "execution_count": 20,
   "id": "2cd1ab87",
   "metadata": {
    "scrolled": false
   },
   "outputs": [
    {
     "data": {
      "text/plain": [
       "SEX                 0.0\n",
       "AGE                 0.0\n",
       "INF_ANAM            0.0\n",
       "STENOK_AN           0.0\n",
       "FK_STENOK           0.0\n",
       "                   ... \n",
       "GEPAR_S_n           0.0\n",
       "ASP_S_n             0.0\n",
       "TIKL_S_n            0.0\n",
       "TRENT_S_n           0.0\n",
       "COMPLICATION_OUT    0.0\n",
       "Length: 93, dtype: float64"
      ]
     },
     "execution_count": 20,
     "metadata": {},
     "output_type": "execute_result"
    }
   ],
   "source": [
    "(mi_df.isnull().sum() / len(mi_df)*100)"
   ]
  },
  {
   "cell_type": "code",
   "execution_count": null,
   "id": "7e2c3d07",
   "metadata": {},
   "outputs": [],
   "source": []
  }
 ],
 "metadata": {
  "kernelspec": {
   "display_name": "Python 3",
   "language": "python",
   "name": "python3"
  },
  "language_info": {
   "codemirror_mode": {
    "name": "ipython",
    "version": 3
   },
   "file_extension": ".py",
   "mimetype": "text/x-python",
   "name": "python",
   "nbconvert_exporter": "python",
   "pygments_lexer": "ipython3",
   "version": "3.8.8"
  }
 },
 "nbformat": 4,
 "nbformat_minor": 5
}
