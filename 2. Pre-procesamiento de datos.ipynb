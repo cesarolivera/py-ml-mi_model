{
 "cells": [
  {
   "cell_type": "code",
   "execution_count": 1,
   "id": "875eecbc",
   "metadata": {},
   "outputs": [],
   "source": [
    "import pandas as pd\n",
    "import numpy as np\n",
    "import seaborn as sns\n",
    "from sklearn.impute import SimpleImputer\n",
    "from sklearn.model_selection import train_test_split\n",
    "import matplotlib.pyplot as plt"
   ]
  },
  {
   "cell_type": "code",
   "execution_count": 2,
   "id": "aff4e714",
   "metadata": {},
   "outputs": [],
   "source": [
    "mi_df =  pd.read_csv(\n",
    "    'data/01_data_cruda/MI_data.csv', \n",
    "    header=0, \n",
    "    sep=\",\"\n",
    ")"
   ]
  },
  {
   "cell_type": "markdown",
   "id": "7b9e254c",
   "metadata": {},
   "source": [
    "There  are  four  possible  time  moments  for  complication  prediction:  on  base  of  the information known at\n",
    "\n",
    "1.the time of admission to hospital:all input columns (2-112) except 93, 94, 95, 100, 101, 102, 103, 104, 105can be usedfor prediction;\n",
    "\n",
    "2.the end of the first day(24 hours after admission to the hospital):all input columns (2-112) except 94, 95, 101, 102, 104, 105 can be usedfor prediction;\n",
    "\n",
    "3.the end of the second day (48 hours after admission to the hospital) all input columns (2-112) except 95, 102, 105 can be usedfor prediction;\n",
    "\n",
    "4.the end of the third day (72 hours after admission to the hospital) all input columns (2-112) can be usedfor prediction.\n",
    "\n",
    "---\n",
    "\n",
    "\n"
   ]
  },
  {
   "cell_type": "code",
   "execution_count": 3,
   "id": "4ee27d40",
   "metadata": {},
   "outputs": [],
   "source": [
    "# Hacemos referencia a las columnas 2-112 (Variables que pueden ser usadas para la predicción)\n",
    "\n",
    "# Referenciamos columnas con indice de 0 a 111\n",
    "var_objetivo_lst = [\n",
    "    'FIBR_PREDS','PREDS_TAH','JELUD_TAH','FIBR_JELUD',\n",
    "    'A_V_BLOK','OTEK_LANC','RAZRIV','DRESSLER','ZSN',\n",
    "    'REC_IM','P_IM_STEN'\n",
    "    #,'LET_IS'\n",
    "]\n",
    "mi_objetivo_df = mi_df[var_objetivo_lst]\n",
    "mi_predictoras_df = mi_df.iloc[:,0:112]\n",
    "\n",
    "mi_df = pd.concat([mi_predictoras_df, mi_objetivo_df], axis=1, join='inner')\n",
    "# Removemos columnas 93, 94 , 95, 101, 102, 103, 104, 105\n",
    "mi_df.drop(mi_df.columns[[1-1, 93-1, 94-1 , 95-1, 101-1, 102-1, 103-1, 104-1, 105-1]],axis = 1, inplace=True)"
   ]
  },
  {
   "cell_type": "markdown",
   "id": "e7b894ba",
   "metadata": {},
   "source": [
    "### 1. Removemos columnas\n",
    "\n",
    "#### 1.1 Remover columnas que tienen un porcentaje de valores únicos superior al 70%"
   ]
  },
  {
   "cell_type": "code",
   "execution_count": 4,
   "id": "ea3653fe",
   "metadata": {},
   "outputs": [],
   "source": [
    "#Determinamos aquellas columnas (variables) que tengan un porcentaje de filas (registros) únicas por cada columna (variable) mayor al valor de 0.7\n",
    "threshold = 0.7\n",
    "\n",
    "unique_percentages = mi_df.nunique() / len(mi_df)\n",
    "\n",
    "criteria = unique_percentages > threshold\n",
    "\n",
    "columns_to_filter = unique_percentages[criteria].keys()\n",
    "\n",
    "#Eliminamos las columnas (variables) seleccionadas en el paso anterior. Al aplicar \"drop\" obtenemos un nuevo \"DataFrame\", pero con el parámetro\n",
    "#inplace igual a \"True\" podemos realizar dicha operación de eliminación y sobre-escribir el \"DataFrame\" del cual estamos eliminando con el\n",
    "#nuevo \"DataFrame\" obtenido. El parámetro axis permite seleccionar el eje respecto al cual aplicar la operación \"drop\". Los valores válidos\n",
    "#son [0 o \"index\"] y [1 o \"columns\"]\n",
    "mi_df.drop(columns_to_filter, axis=1, inplace=True)"
   ]
  },
  {
   "cell_type": "markdown",
   "id": "3a58d723",
   "metadata": {},
   "source": [
    "### 2. Tratamiento de datos perdidos"
   ]
  },
  {
   "cell_type": "code",
   "execution_count": 5,
   "id": "90d50039",
   "metadata": {},
   "outputs": [],
   "source": [
    "from collections import defaultdict\n",
    "from sklearn import preprocessing "
   ]
  },
  {
   "cell_type": "code",
   "execution_count": 6,
   "id": "210cb3fc",
   "metadata": {},
   "outputs": [],
   "source": [
    "### El dataset solo contiene variables numéricas y no contiene variables categóricas que tengan que ser codificadas\n",
    "\n",
    "# Agrupando columnas por tipo de datos\n",
    "tipos = mi_df.columns.to_series().groupby(mi_df.dtypes).groups\n",
    "\n",
    "# Armando lista de columnas categóricas\n",
    "cint = tipos[np.dtype('int64')]\n",
    "# Armando lista de columnas numéricas\n",
    "cfloat = tipos[np.dtype(\"float64\")]"
   ]
  },
  {
   "cell_type": "code",
   "execution_count": 7,
   "id": "dd0b9781",
   "metadata": {
    "scrolled": true
   },
   "outputs": [],
   "source": [
    "## Para columnas que tengan > 20% de valores perdidos: Eliminar\n",
    "cols_mayor_a_20 = [col for col in mi_df.columns if ((mi_df[col].isnull().sum() / len(mi_df)*100) > 20.0)]\n",
    "\n",
    "mi_df.drop(\n",
    "    cols_mayor_a_20, \n",
    "    axis = 1, \n",
    "    inplace=True\n",
    ")"
   ]
  },
  {
   "cell_type": "code",
   "execution_count": 8,
   "id": "e13d9d3e",
   "metadata": {},
   "outputs": [],
   "source": [
    "## Para columnas que tengan entre 15% y 20% de valores perdidos: Imputar con modelos\n",
    "cols_entre_15_y_20 = [\n",
    "    col for col in mi_df.columns if \n",
    "        (((mi_df[col].isnull().sum() / len(mi_df)*100))>=15 and  \n",
    "        ((mi_df[col].isnull().sum() / len(mi_df)*100))<=20)\n",
    "]"
   ]
  },
  {
   "cell_type": "code",
   "execution_count": 9,
   "id": "e1cc7303",
   "metadata": {},
   "outputs": [],
   "source": [
    "mi_imp_wt_model_df = mi_df.copy() \n",
    "mi_imp_wt_model_df.drop(\n",
    "    var_objetivo_lst,\n",
    "    axis = 1, \n",
    "    inplace=True\n",
    ")\n",
    "\n",
    "es_null=pd.isna(mi_imp_wt_model_df.loc[:, 'S_AD_ORIT'])\n",
    "#Selecciona solo los que contiene \"True\"\n",
    "df_m_null = mi_imp_wt_model_df.loc[es_null]\n",
    "#df_m_null.info()"
   ]
  },
  {
   "cell_type": "code",
   "execution_count": 10,
   "id": "d3902824",
   "metadata": {
    "scrolled": true
   },
   "outputs": [
    {
     "data": {
      "text/plain": [
       "array([ nan, 0.18, 0.11, 0.37, 0.22, 0.45, 0.6 , 0.15, 0.07, 0.38, 0.3 ,\n",
       "       0.26, 0.44, 0.41, 0.52, 0.5 , 0.33, 0.04, 0.67, 0.75, 0.2 , 1.34,\n",
       "       0.4 , 1.12, 0.86, 0.48, 0.96, 1.04, 0.63, 0.14, 0.13, 0.08, 1.2 ,\n",
       "       0.36, 0.9 , 0.82, 0.56, 0.12, 0.57, 0.66, 1.13, 2.15, 0.27, 0.8 ,\n",
       "       0.46, 0.74, 0.23, 0.1 , 0.7 , 1.05, 0.28, 0.68, 0.98, 1.36, 0.71,\n",
       "       1.75, 0.97, 1.08, 0.49])"
      ]
     },
     "execution_count": 10,
     "metadata": {},
     "output_type": "execute_result"
    }
   ],
   "source": [
    "mi_df[\"AST_BLOOD\"].unique()"
   ]
  },
  {
   "cell_type": "code",
   "execution_count": 11,
   "id": "0d6d77ed",
   "metadata": {},
   "outputs": [
    {
     "name": "stdout",
     "output_type": "stream",
     "text": [
      "130.0\n",
      "80.0\n",
      "0.15\n",
      "0.15\n"
     ]
    }
   ],
   "source": [
    "for col in cols_entre_15_y_20:\n",
    "    mode = mi_df[col].mode()[0]\n",
    "    print(mode)\n",
    "    mi_df[col].fillna(mode, inplace=True) "
   ]
  },
  {
   "cell_type": "code",
   "execution_count": 12,
   "id": "b9937d9d",
   "metadata": {},
   "outputs": [],
   "source": [
    "## Para columnas que tengan menos de 15% de valores perdidos: Imputar con Media, Moda y Mediana\n",
    "cols_menor_a_15 = [col for col in mi_df.columns if ((mi_df[col].isnull().sum() / len(mi_df)*100) < 15.0)]"
   ]
  },
  {
   "cell_type": "markdown",
   "id": "0c6c85df",
   "metadata": {},
   "source": [
    "Notas de la libreria SimpleImputer para el parametro \"strategy\"\n",
    "\n",
    "- Si es \"mean\", reemplace los valores faltantes usando la media a lo largo de cada columna. Solo se puede usar con datos numéricos flotantes (float).\n",
    "\n",
    "- Si es \"median\", reemplace los valores faltantes usando la mediana a lo largo de cada columna. Solo se puede usar con datos numéricos enteros (int).\n",
    "\n",
    "- Si es \"most_frequent\", reemplace falta utilizando el valor más frecuente a lo largo de cada columna. Se puede usar con cadenas o datos numéricos que representan variables categóricas (str/int)."
   ]
  },
  {
   "cell_type": "code",
   "execution_count": 13,
   "id": "ccb20991",
   "metadata": {},
   "outputs": [],
   "source": [
    "imp_media = SimpleImputer(missing_values=np.nan, #etiqueta de valores nulos\n",
    "                    strategy='mean') #método o estrategia de imputación\n",
    "#imp_media es la función con los parámetros ya especificados de nuestra función\n",
    "\n",
    "imp_moda = SimpleImputer(missing_values=np.nan, #etiqueta de valores nulos\n",
    "                    strategy='most_frequent') #método o estrategia de imputación\n",
    "#imp_moda es la función con los parámetros ya especificados de nuestra función"
   ]
  },
  {
   "cell_type": "code",
   "execution_count": 14,
   "id": "c336083b",
   "metadata": {},
   "outputs": [],
   "source": [
    "missing_cols_int_lst = [col for col in cols_menor_a_15 if col in cint]\n",
    "\n",
    "mi_int_limpio_df = imp_moda.fit_transform(mi_df[missing_cols_int_lst])\n",
    "mi_int_limpio_df = pd.DataFrame(mi_int_limpio_df, columns=missing_cols_int_lst)"
   ]
  },
  {
   "cell_type": "code",
   "execution_count": 15,
   "id": "88265512",
   "metadata": {},
   "outputs": [],
   "source": [
    "missing_cols_float_lst = [col for col in cols_menor_a_15 if col in cfloat]\n",
    "\n",
    "mi_float_limpio_df = imp_media.fit_transform(mi_df[missing_cols_float_lst])\n",
    "mi_float_limpio_df = pd.DataFrame(mi_float_limpio_df, columns=missing_cols_float_lst)"
   ]
  },
  {
   "cell_type": "code",
   "execution_count": 16,
   "id": "7e6cc703",
   "metadata": {},
   "outputs": [],
   "source": [
    "mi_df.drop(\n",
    "    missing_cols_int_lst+missing_cols_float_lst,\n",
    "    axis = 1, \n",
    "    inplace=True\n",
    ")\n",
    "mi_df = pd.concat([mi_df, mi_int_limpio_df],    axis=1, join='inner')\n",
    "mi_df = pd.concat([mi_df, mi_float_limpio_df],  axis=1, join='inner')"
   ]
  },
  {
   "cell_type": "markdown",
   "id": "3d56e183",
   "metadata": {},
   "source": [
    "## 4. Codificación de variable objetivo\n",
    "\n",
    "- Considera complicaciones: 'FIBR_PREDS','PREDS_TAH','JELUD_TAH','FIBR_JELUD','A_V_BLOK','OTEK_LANC','RAZRIV','DRESSLER','ZSN','REC_IM','P_IM_STEN'"
   ]
  },
  {
   "cell_type": "code",
   "execution_count": 17,
   "id": "21a1849c",
   "metadata": {},
   "outputs": [],
   "source": [
    "mi_df[\"COMPLICATION_OUT\"] = mi_df[var_objetivo_lst].apply(\n",
    "    lambda x: x[\"FIBR_PREDS\"]*(2**10)+\n",
    "              x[\"PREDS_TAH\"]*(2**9)+\n",
    "              x[\"JELUD_TAH\"]*(2**8)+\n",
    "              x[\"FIBR_JELUD\"]*(2**7)+\n",
    "              x[\"A_V_BLOK\"]*(2**6)+\n",
    "              x[\"OTEK_LANC\"]*(2**5)+\n",
    "              x[\"RAZRIV\"]*(2**4)+\n",
    "              x[\"DRESSLER\"]*(2**3)+\n",
    "              x[\"ZSN\"]*(2**2)+\n",
    "              x[\"REC_IM\"]*(2**1)+\n",
    "              x[\"P_IM_STEN\"]*(2**0),\n",
    "    axis=1\n",
    ")"
   ]
  },
  {
   "cell_type": "markdown",
   "id": "910f7a9f",
   "metadata": {},
   "source": [
    "## 5. Distribución de muestras del conjunto de datos"
   ]
  },
  {
   "cell_type": "code",
   "execution_count": 18,
   "id": "c57bdbc8",
   "metadata": {},
   "outputs": [],
   "source": [
    "columns_lst = mi_df.columns.tolist()\n",
    "columns_lst.remove(\"COMPLICATION_OUT\")\n",
    "X=mi_df[columns_lst]\n",
    "y=mi_df[\"COMPLICATION_OUT\"]\n",
    "\n",
    "X_train, X_test, y_train, y_test =\\\n",
    "    train_test_split(X, y, \n",
    "                     test_size=0.20, # 20% de pruebas y 70% de entrenamiento\n",
    "                     random_state=2022)"
   ]
  },
  {
   "cell_type": "markdown",
   "id": "f0eb9bc4",
   "metadata": {},
   "source": [
    "## 6. Escalamiento de los datos"
   ]
  },
  {
   "cell_type": "code",
   "execution_count": 19,
   "id": "c87e32a6",
   "metadata": {},
   "outputs": [],
   "source": [
    "from sklearn.preprocessing import StandardScaler\n",
    "from sklearn.preprocessing import MinMaxScaler\n",
    "\n",
    "mms = MinMaxScaler() #estamos guardando la función en el objeto mms\n",
    "\n",
    "x_train_morm = mms.fit_transform(X_train)#entrenamiento\n",
    "#fit_transform()- aplicar la función y aprender de los datos de entrenamiento\n",
    "\n",
    "X_test_norm = mms.transform(X_test)#testeo\n",
    "#transform() - los parámetros de los datos de entrenamiento los aplica a los de testeo\n",
    "#con el objetivo trazado por la función (en nuestro caso estandarizar datos)"
   ]
  },
  {
   "cell_type": "code",
   "execution_count": 20,
   "id": "65f7f7fe",
   "metadata": {},
   "outputs": [],
   "source": [
    "X_train=pd.DataFrame(x_train_morm,\n",
    "                     columns=X_train.columns.tolist())\n",
    "X_test=pd.DataFrame(X_test_std,\n",
    "                     columns=X_test.columns.tolist())"
   ]
  },
  {
   "cell_type": "code",
   "execution_count": 28,
   "id": "317ec81f",
   "metadata": {},
   "outputs": [
    {
     "data": {
      "text/html": [
       "<div>\n",
       "<style scoped>\n",
       "    .dataframe tbody tr th:only-of-type {\n",
       "        vertical-align: middle;\n",
       "    }\n",
       "\n",
       "    .dataframe tbody tr th {\n",
       "        vertical-align: top;\n",
       "    }\n",
       "\n",
       "    .dataframe thead th {\n",
       "        text-align: right;\n",
       "    }\n",
       "</style>\n",
       "<table border=\"1\" class=\"dataframe\">\n",
       "  <thead>\n",
       "    <tr style=\"text-align: right;\">\n",
       "      <th></th>\n",
       "      <th>SEX</th>\n",
       "      <th>FIBR_PREDS</th>\n",
       "      <th>PREDS_TAH</th>\n",
       "      <th>JELUD_TAH</th>\n",
       "      <th>FIBR_JELUD</th>\n",
       "      <th>A_V_BLOK</th>\n",
       "      <th>OTEK_LANC</th>\n",
       "      <th>RAZRIV</th>\n",
       "      <th>DRESSLER</th>\n",
       "      <th>ZSN</th>\n",
       "      <th>...</th>\n",
       "      <th>TIME_B_S</th>\n",
       "      <th>NITR_S</th>\n",
       "      <th>NA_R_1_n</th>\n",
       "      <th>LID_S_n</th>\n",
       "      <th>B_BLOK_S_n</th>\n",
       "      <th>ANT_CA_S_n</th>\n",
       "      <th>GEPAR_S_n</th>\n",
       "      <th>ASP_S_n</th>\n",
       "      <th>TIKL_S_n</th>\n",
       "      <th>TRENT_S_n</th>\n",
       "    </tr>\n",
       "  </thead>\n",
       "  <tbody>\n",
       "    <tr>\n",
       "      <th>0</th>\n",
       "      <td>1.0</td>\n",
       "      <td>0.0</td>\n",
       "      <td>0.0</td>\n",
       "      <td>0.0</td>\n",
       "      <td>0.0</td>\n",
       "      <td>0.0</td>\n",
       "      <td>0.0</td>\n",
       "      <td>0.0</td>\n",
       "      <td>0.0</td>\n",
       "      <td>0.0</td>\n",
       "      <td>...</td>\n",
       "      <td>1.00000</td>\n",
       "      <td>0.0</td>\n",
       "      <td>0.00</td>\n",
       "      <td>0.0</td>\n",
       "      <td>0.0</td>\n",
       "      <td>0.0</td>\n",
       "      <td>1.0</td>\n",
       "      <td>1.0</td>\n",
       "      <td>0.0</td>\n",
       "      <td>0.0</td>\n",
       "    </tr>\n",
       "    <tr>\n",
       "      <th>1</th>\n",
       "      <td>1.0</td>\n",
       "      <td>0.0</td>\n",
       "      <td>0.0</td>\n",
       "      <td>0.0</td>\n",
       "      <td>1.0</td>\n",
       "      <td>0.0</td>\n",
       "      <td>0.0</td>\n",
       "      <td>0.0</td>\n",
       "      <td>0.0</td>\n",
       "      <td>1.0</td>\n",
       "      <td>...</td>\n",
       "      <td>0.12500</td>\n",
       "      <td>0.0</td>\n",
       "      <td>1.00</td>\n",
       "      <td>0.0</td>\n",
       "      <td>1.0</td>\n",
       "      <td>1.0</td>\n",
       "      <td>1.0</td>\n",
       "      <td>1.0</td>\n",
       "      <td>0.0</td>\n",
       "      <td>0.0</td>\n",
       "    </tr>\n",
       "    <tr>\n",
       "      <th>2</th>\n",
       "      <td>0.0</td>\n",
       "      <td>0.0</td>\n",
       "      <td>0.0</td>\n",
       "      <td>0.0</td>\n",
       "      <td>0.0</td>\n",
       "      <td>0.0</td>\n",
       "      <td>0.0</td>\n",
       "      <td>0.0</td>\n",
       "      <td>0.0</td>\n",
       "      <td>0.0</td>\n",
       "      <td>...</td>\n",
       "      <td>1.00000</td>\n",
       "      <td>0.0</td>\n",
       "      <td>0.00</td>\n",
       "      <td>0.0</td>\n",
       "      <td>0.0</td>\n",
       "      <td>1.0</td>\n",
       "      <td>0.0</td>\n",
       "      <td>1.0</td>\n",
       "      <td>0.0</td>\n",
       "      <td>0.0</td>\n",
       "    </tr>\n",
       "    <tr>\n",
       "      <th>3</th>\n",
       "      <td>1.0</td>\n",
       "      <td>0.0</td>\n",
       "      <td>1.0</td>\n",
       "      <td>1.0</td>\n",
       "      <td>0.0</td>\n",
       "      <td>0.0</td>\n",
       "      <td>0.0</td>\n",
       "      <td>0.0</td>\n",
       "      <td>0.0</td>\n",
       "      <td>0.0</td>\n",
       "      <td>...</td>\n",
       "      <td>0.25000</td>\n",
       "      <td>0.0</td>\n",
       "      <td>0.25</td>\n",
       "      <td>1.0</td>\n",
       "      <td>0.0</td>\n",
       "      <td>1.0</td>\n",
       "      <td>1.0</td>\n",
       "      <td>1.0</td>\n",
       "      <td>0.0</td>\n",
       "      <td>0.0</td>\n",
       "    </tr>\n",
       "    <tr>\n",
       "      <th>4</th>\n",
       "      <td>0.0</td>\n",
       "      <td>0.0</td>\n",
       "      <td>0.0</td>\n",
       "      <td>0.0</td>\n",
       "      <td>0.0</td>\n",
       "      <td>0.0</td>\n",
       "      <td>0.0</td>\n",
       "      <td>0.0</td>\n",
       "      <td>0.0</td>\n",
       "      <td>1.0</td>\n",
       "      <td>...</td>\n",
       "      <td>0.62500</td>\n",
       "      <td>0.0</td>\n",
       "      <td>0.00</td>\n",
       "      <td>1.0</td>\n",
       "      <td>0.0</td>\n",
       "      <td>1.0</td>\n",
       "      <td>0.0</td>\n",
       "      <td>1.0</td>\n",
       "      <td>0.0</td>\n",
       "      <td>0.0</td>\n",
       "    </tr>\n",
       "    <tr>\n",
       "      <th>...</th>\n",
       "      <td>...</td>\n",
       "      <td>...</td>\n",
       "      <td>...</td>\n",
       "      <td>...</td>\n",
       "      <td>...</td>\n",
       "      <td>...</td>\n",
       "      <td>...</td>\n",
       "      <td>...</td>\n",
       "      <td>...</td>\n",
       "      <td>...</td>\n",
       "      <td>...</td>\n",
       "      <td>...</td>\n",
       "      <td>...</td>\n",
       "      <td>...</td>\n",
       "      <td>...</td>\n",
       "      <td>...</td>\n",
       "      <td>...</td>\n",
       "      <td>...</td>\n",
       "      <td>...</td>\n",
       "      <td>...</td>\n",
       "      <td>...</td>\n",
       "    </tr>\n",
       "    <tr>\n",
       "      <th>1355</th>\n",
       "      <td>0.0</td>\n",
       "      <td>0.0</td>\n",
       "      <td>0.0</td>\n",
       "      <td>0.0</td>\n",
       "      <td>0.0</td>\n",
       "      <td>0.0</td>\n",
       "      <td>0.0</td>\n",
       "      <td>0.0</td>\n",
       "      <td>0.0</td>\n",
       "      <td>0.0</td>\n",
       "      <td>...</td>\n",
       "      <td>1.00000</td>\n",
       "      <td>0.0</td>\n",
       "      <td>0.00</td>\n",
       "      <td>0.0</td>\n",
       "      <td>0.0</td>\n",
       "      <td>1.0</td>\n",
       "      <td>1.0</td>\n",
       "      <td>1.0</td>\n",
       "      <td>0.0</td>\n",
       "      <td>0.0</td>\n",
       "    </tr>\n",
       "    <tr>\n",
       "      <th>1356</th>\n",
       "      <td>0.0</td>\n",
       "      <td>0.0</td>\n",
       "      <td>0.0</td>\n",
       "      <td>0.0</td>\n",
       "      <td>0.0</td>\n",
       "      <td>0.0</td>\n",
       "      <td>0.0</td>\n",
       "      <td>0.0</td>\n",
       "      <td>0.0</td>\n",
       "      <td>0.0</td>\n",
       "      <td>...</td>\n",
       "      <td>0.46053</td>\n",
       "      <td>0.0</td>\n",
       "      <td>0.25</td>\n",
       "      <td>0.0</td>\n",
       "      <td>0.0</td>\n",
       "      <td>1.0</td>\n",
       "      <td>1.0</td>\n",
       "      <td>1.0</td>\n",
       "      <td>0.0</td>\n",
       "      <td>0.0</td>\n",
       "    </tr>\n",
       "    <tr>\n",
       "      <th>1357</th>\n",
       "      <td>0.0</td>\n",
       "      <td>0.0</td>\n",
       "      <td>0.0</td>\n",
       "      <td>0.0</td>\n",
       "      <td>0.0</td>\n",
       "      <td>0.0</td>\n",
       "      <td>0.0</td>\n",
       "      <td>0.0</td>\n",
       "      <td>0.0</td>\n",
       "      <td>0.0</td>\n",
       "      <td>...</td>\n",
       "      <td>0.25000</td>\n",
       "      <td>0.0</td>\n",
       "      <td>0.00</td>\n",
       "      <td>0.0</td>\n",
       "      <td>0.0</td>\n",
       "      <td>1.0</td>\n",
       "      <td>1.0</td>\n",
       "      <td>1.0</td>\n",
       "      <td>0.0</td>\n",
       "      <td>0.0</td>\n",
       "    </tr>\n",
       "    <tr>\n",
       "      <th>1358</th>\n",
       "      <td>1.0</td>\n",
       "      <td>0.0</td>\n",
       "      <td>0.0</td>\n",
       "      <td>0.0</td>\n",
       "      <td>0.0</td>\n",
       "      <td>0.0</td>\n",
       "      <td>1.0</td>\n",
       "      <td>0.0</td>\n",
       "      <td>0.0</td>\n",
       "      <td>0.0</td>\n",
       "      <td>...</td>\n",
       "      <td>0.25000</td>\n",
       "      <td>0.0</td>\n",
       "      <td>0.00</td>\n",
       "      <td>0.0</td>\n",
       "      <td>1.0</td>\n",
       "      <td>1.0</td>\n",
       "      <td>1.0</td>\n",
       "      <td>0.0</td>\n",
       "      <td>0.0</td>\n",
       "      <td>1.0</td>\n",
       "    </tr>\n",
       "    <tr>\n",
       "      <th>1359</th>\n",
       "      <td>0.0</td>\n",
       "      <td>0.0</td>\n",
       "      <td>0.0</td>\n",
       "      <td>0.0</td>\n",
       "      <td>0.0</td>\n",
       "      <td>0.0</td>\n",
       "      <td>0.0</td>\n",
       "      <td>0.0</td>\n",
       "      <td>0.0</td>\n",
       "      <td>0.0</td>\n",
       "      <td>...</td>\n",
       "      <td>1.00000</td>\n",
       "      <td>1.0</td>\n",
       "      <td>0.25</td>\n",
       "      <td>0.0</td>\n",
       "      <td>1.0</td>\n",
       "      <td>1.0</td>\n",
       "      <td>1.0</td>\n",
       "      <td>1.0</td>\n",
       "      <td>0.0</td>\n",
       "      <td>0.0</td>\n",
       "    </tr>\n",
       "  </tbody>\n",
       "</table>\n",
       "<p>1360 rows × 103 columns</p>\n",
       "</div>"
      ],
      "text/plain": [
       "      SEX  FIBR_PREDS  PREDS_TAH  JELUD_TAH  FIBR_JELUD  A_V_BLOK  OTEK_LANC  \\\n",
       "0     1.0         0.0        0.0        0.0         0.0       0.0        0.0   \n",
       "1     1.0         0.0        0.0        0.0         1.0       0.0        0.0   \n",
       "2     0.0         0.0        0.0        0.0         0.0       0.0        0.0   \n",
       "3     1.0         0.0        1.0        1.0         0.0       0.0        0.0   \n",
       "4     0.0         0.0        0.0        0.0         0.0       0.0        0.0   \n",
       "...   ...         ...        ...        ...         ...       ...        ...   \n",
       "1355  0.0         0.0        0.0        0.0         0.0       0.0        0.0   \n",
       "1356  0.0         0.0        0.0        0.0         0.0       0.0        0.0   \n",
       "1357  0.0         0.0        0.0        0.0         0.0       0.0        0.0   \n",
       "1358  1.0         0.0        0.0        0.0         0.0       0.0        1.0   \n",
       "1359  0.0         0.0        0.0        0.0         0.0       0.0        0.0   \n",
       "\n",
       "      RAZRIV  DRESSLER  ZSN  ...  TIME_B_S  NITR_S  NA_R_1_n  LID_S_n  \\\n",
       "0        0.0       0.0  0.0  ...   1.00000     0.0      0.00      0.0   \n",
       "1        0.0       0.0  1.0  ...   0.12500     0.0      1.00      0.0   \n",
       "2        0.0       0.0  0.0  ...   1.00000     0.0      0.00      0.0   \n",
       "3        0.0       0.0  0.0  ...   0.25000     0.0      0.25      1.0   \n",
       "4        0.0       0.0  1.0  ...   0.62500     0.0      0.00      1.0   \n",
       "...      ...       ...  ...  ...       ...     ...       ...      ...   \n",
       "1355     0.0       0.0  0.0  ...   1.00000     0.0      0.00      0.0   \n",
       "1356     0.0       0.0  0.0  ...   0.46053     0.0      0.25      0.0   \n",
       "1357     0.0       0.0  0.0  ...   0.25000     0.0      0.00      0.0   \n",
       "1358     0.0       0.0  0.0  ...   0.25000     0.0      0.00      0.0   \n",
       "1359     0.0       0.0  0.0  ...   1.00000     1.0      0.25      0.0   \n",
       "\n",
       "      B_BLOK_S_n  ANT_CA_S_n  GEPAR_S_n  ASP_S_n  TIKL_S_n  TRENT_S_n  \n",
       "0            0.0         0.0        1.0      1.0       0.0        0.0  \n",
       "1            1.0         1.0        1.0      1.0       0.0        0.0  \n",
       "2            0.0         1.0        0.0      1.0       0.0        0.0  \n",
       "3            0.0         1.0        1.0      1.0       0.0        0.0  \n",
       "4            0.0         1.0        0.0      1.0       0.0        0.0  \n",
       "...          ...         ...        ...      ...       ...        ...  \n",
       "1355         0.0         1.0        1.0      1.0       0.0        0.0  \n",
       "1356         0.0         1.0        1.0      1.0       0.0        0.0  \n",
       "1357         0.0         1.0        1.0      1.0       0.0        0.0  \n",
       "1358         1.0         1.0        1.0      0.0       0.0        1.0  \n",
       "1359         1.0         1.0        1.0      1.0       0.0        0.0  \n",
       "\n",
       "[1360 rows x 103 columns]"
      ]
     },
     "execution_count": 28,
     "metadata": {},
     "output_type": "execute_result"
    }
   ],
   "source": [
    "X_train"
   ]
  },
  {
   "cell_type": "markdown",
   "id": "e6dd9661",
   "metadata": {},
   "source": [
    "---"
   ]
  },
  {
   "cell_type": "markdown",
   "id": "65703aad",
   "metadata": {},
   "source": [
    "## 7. Balanceo de datos"
   ]
  },
  {
   "cell_type": "code",
   "execution_count": 21,
   "id": "09af95b4",
   "metadata": {
    "scrolled": true
   },
   "outputs": [
    {
     "data": {
      "text/plain": [
       "Text(0, 0.5, 'número de observaciones')"
      ]
     },
     "execution_count": 21,
     "metadata": {},
     "output_type": "execute_result"
    },
    {
     "data": {
      "image/png": "[encoded data removed]",
      "text/plain": [
       "<Figure size 432x288 with 1 Axes>"
      ]
     },
     "metadata": {
      "needs_background": "light"
     },
     "output_type": "display_data"
    }
   ],
   "source": [
    "count_classes = pd.value_counts(mi_df['COMPLICATION_OUT'], sort = True)\n",
    "\n",
    "count_classes.plot(kind = 'bar', #bar: gráfico de barras\n",
    "                   rot=90)#0 = no rotación de las etiquetas del eje x\n",
    "plt.xticks(range(2))\n",
    "plt.title(\"Frecuencia de número de observaciones\")\n",
    "plt.xlabel(\"ocurrencia de grupo de complicaciones\")\n",
    "plt.ylabel(\"número de observaciones\")"
   ]
  },
  {
   "cell_type": "code",
   "execution_count": 22,
   "id": "9dbd4edb",
   "metadata": {},
   "outputs": [],
   "source": [
    "# from imblearn.combine import SMOTETomek\n",
    "\n",
    "# y_train=pd.DataFrame(y_train,\n",
    "#                      columns=[\"COMPLICATION_OUT\"])\n",
    "\n",
    "\n",
    "# os_us = SMOTETomek(sampling_strategy=\"all\")\n",
    "\n",
    "# X_t_st, y_t_st = os_us.fit_resample(X_train_std, y_train)\n",
    "# #Datos de entrenamiento\n",
    "# x_t_st= pd.DataFrame(X_t_st, columns=X_train.columns.tolist())\n",
    "# y_t_st= pd.DataFrame(y_t_st, columns=[\"COMPLICATION_OUT\"])\n",
    "\n",
    "# X_train_smotetomek = pd.concat([x_t_st, y_t_st], axis=1)\n",
    "# X_train_smotetomek.head()"
   ]
  },
  {
   "cell_type": "code",
   "execution_count": 23,
   "id": "4c6a94f7",
   "metadata": {},
   "outputs": [],
   "source": [
    "\n",
    "# count_classes.plot(kind = 'bar', rot=0)\n",
    "# plt.xticks(range(2))\n",
    "# plt.title(\"Frecuencia de número de observaciones\")\n",
    "# plt.xlabel(\"ocurrencia de incidentes\")\n",
    "# plt.ylabel(\"número de observaciones\")"
   ]
  },
  {
   "cell_type": "markdown",
   "id": "c84a4b36",
   "metadata": {},
   "source": [
    "---"
   ]
  },
  {
   "cell_type": "code",
   "execution_count": 24,
   "id": "277f17f1",
   "metadata": {},
   "outputs": [],
   "source": [
    "mi_df[var_objetivo_lst+[\"COMPLICATION_OUT\"]].drop_duplicates().to_csv('data/02_data_intermedia/COMPLICACION_DECOD.csv',index=False)"
   ]
  },
  {
   "cell_type": "code",
   "execution_count": 25,
   "id": "8e82abd3",
   "metadata": {},
   "outputs": [],
   "source": [
    "X_train.to_csv('data/02_data_intermedia/X_MI_entrenamiento_preprocesado.csv',index=False)\n",
    "X_test.to_csv('data/02_data_intermedia/X_MI_pruebas_preprocesado.csv',index=False)\n",
    "\n",
    "y_train.to_csv('data/02_data_intermedia/y_MI_entrenamiento_preprocesado.csv',index=False)\n",
    "y_test.to_csv('data/02_data_intermedia/y_MI_pruebas_preprocesado.csv',index=False)"
   ]
  },
  {
   "cell_type": "code",
   "execution_count": 26,
   "id": "5a2ce61c",
   "metadata": {
    "scrolled": false
   },
   "outputs": [
    {
     "data": {
      "text/plain": [
       "SEX                 0.0\n",
       "FIBR_PREDS          0.0\n",
       "PREDS_TAH           0.0\n",
       "JELUD_TAH           0.0\n",
       "FIBR_JELUD          0.0\n",
       "                   ... \n",
       "GEPAR_S_n           0.0\n",
       "ASP_S_n             0.0\n",
       "TIKL_S_n            0.0\n",
       "TRENT_S_n           0.0\n",
       "COMPLICATION_OUT    0.0\n",
       "Length: 104, dtype: float64"
      ]
     },
     "execution_count": 26,
     "metadata": {},
     "output_type": "execute_result"
    }
   ],
   "source": [
    "(mi_df.isnull().sum() / len(mi_df)*100)"
   ]
  },
  {
   "cell_type": "code",
   "execution_count": 27,
   "id": "8b6de993",
   "metadata": {
    "scrolled": false
   },
   "outputs": [
    {
     "data": {
      "text/plain": [
       "0       765\n",
       "4       202\n",
       "1       105\n",
       "1024     68\n",
       "32       59\n",
       "       ... \n",
       "514       1\n",
       "515       1\n",
       "546       1\n",
       "548       1\n",
       "1664      1\n",
       "Name: COMPLICATION_OUT, Length: 106, dtype: int64"
      ]
     },
     "execution_count": 27,
     "metadata": {},
     "output_type": "execute_result"
    }
   ],
   "source": [
    "count_classes"
   ]
  }
 ],
 "metadata": {
  "kernelspec": {
   "display_name": "Python 3",
   "language": "python",
   "name": "python3"
  },
  "language_info": {
   "codemirror_mode": {
    "name": "ipython",
    "version": 3
   },
   "file_extension": ".py",
   "mimetype": "text/x-python",
   "name": "python",
   "nbconvert_exporter": "python",
   "pygments_lexer": "ipython3",
   "version": "3.8.8"
  }
 },
 "nbformat": 4,
 "nbformat_minor": 5
}
