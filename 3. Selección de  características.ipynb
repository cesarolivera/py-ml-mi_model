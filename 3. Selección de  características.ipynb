{
 "cells": [
  {
   "cell_type": "code",
   "execution_count": 1,
   "id": "7b009c1e",
   "metadata": {},
   "outputs": [],
   "source": [
    "## Pasos:\n",
    "\n",
    "#1. RandomForest - MDI\n",
    "#2. Seleccionar mejores caractéristicas."
   ]
  },
  {
   "cell_type": "code",
   "execution_count": 2,
   "id": "1fc85776",
   "metadata": {},
   "outputs": [],
   "source": [
    "import pandas as pd\n",
    "import numpy as np\n",
    "import seaborn as sns\n",
    "import matplotlib.pyplot as plt\n",
    "from sklearn.tree import DecisionTreeClassifier\n",
    "from sklearn.ensemble import RandomForestRegressor\n",
    "from sklearn.model_selection import train_test_split\n",
    "from sklearn.metrics import mean_squared_error\n",
    "from sklearn.datasets import load_boston\n",
    "from sklearn.inspection import permutation_importance\n",
    "from matplotlib import pyplot as plt\n",
    "from sklearn.base import clone\n",
    "plt.style.use('ggplot')\n",
    "pd.set_option(\"display.max_columns\", 50)\n",
    "\n",
    "%matplotlib inline"
   ]
  },
  {
   "cell_type": "markdown",
   "id": "68a4d678",
   "metadata": {},
   "source": [
    "### 1. Leer datos pre-procesados"
   ]
  },
  {
   "cell_type": "code",
   "execution_count": 3,
   "id": "c237ead9",
   "metadata": {},
   "outputs": [],
   "source": [
    "#Lectura del dataset\n",
    "\n",
    "X_TRAIN_DF = pd.read_csv('data/02_data_intermedia/X_MI_entrenamiento_preprocesado.csv', header=0, sep=\",\")\n",
    "X_TEST_DF  = pd.read_csv('data/02_data_intermedia/X_MI_pruebas_preprocesado.csv', header=0, sep=\",\")\n",
    "Y_TRAIN_DF = pd.read_csv('data/02_data_intermedia/y_MI_entrenamiento_preprocesado.csv', header=0, sep=\",\")\n",
    "Y_TEST_DF  = pd.read_csv('data/02_data_intermedia/y_MI_pruebas_preprocesado.csv', header=0, sep=\",\")"
   ]
  },
  {
   "cell_type": "code",
   "execution_count": 4,
   "id": "b62b42e7",
   "metadata": {},
   "outputs": [],
   "source": [
    "var_objetivo_lst = [\n",
    "    'FIBR_PREDS','PREDS_TAH','JELUD_TAH','FIBR_JELUD',\n",
    "    'A_V_BLOK','OTEK_LANC','RAZRIV','DRESSLER','ZSN',\n",
    "    'REC_IM','P_IM_STEN'\n",
    "]"
   ]
  },
  {
   "cell_type": "markdown",
   "id": "01b4d3f4",
   "metadata": {},
   "source": [
    "### 2. Selección de mejores características usando MDI y RandomForest"
   ]
  },
  {
   "cell_type": "code",
   "execution_count": 5,
   "id": "c97309c1",
   "metadata": {
    "scrolled": true
   },
   "outputs": [
    {
     "name": "stderr",
     "output_type": "stream",
     "text": [
      "D:\\Users\\coliverac\\Anaconda3\\lib\\site-packages\\pandas\\core\\frame.py:4308: SettingWithCopyWarning: \n",
      "A value is trying to be set on a copy of a slice from a DataFrame\n",
      "\n",
      "See the caveats in the documentation: https://pandas.pydata.org/pandas-docs/stable/user_guide/indexing.html#returning-a-view-versus-a-copy\n",
      "  return super().drop(\n",
      "<ipython-input-5-d3de15a69c67>:11: DataConversionWarning: A column-vector y was passed when a 1d array was expected. Please change the shape of y to (n_samples,), for example using ravel().\n",
      "  rf.fit(X_train, y_train)\n"
     ]
    },
    {
     "name": "stdout",
     "output_type": "stream",
     "text": [
      "[6.99021448e-02 4.31817201e-02 2.25669817e-02 9.92709877e-03\n",
      " 1.05621635e-02 1.03830768e-01 1.76195324e-02 1.30656336e-03\n",
      " 2.09932615e-02 5.83542957e-03 7.27492437e-03 1.76066448e-03\n",
      " 3.93142260e-04 1.26228112e-02 1.14281627e-03 5.16663748e-03\n",
      " 1.43513774e-04 5.36809668e-05 5.96891499e-05 1.17280930e-03\n",
      " 0.00000000e+00 3.67180355e-05 5.38935394e-05 1.65444568e-05\n",
      " 8.24718221e-03 2.06382792e-03 3.56553071e-04 2.29424559e-03\n",
      " 7.88878715e-03 4.47323910e-03 5.62971155e-04 2.93381383e-03\n",
      " 1.68733672e-02 2.35734433e-02 2.87771398e-03 3.96360405e-04\n",
      " 3.46659021e-03 2.79177317e-03 6.74652566e-05 6.29359543e-04\n",
      " 1.23674231e-02 3.65880061e-02 1.15092419e-02 8.32866817e-03\n",
      " 6.74150062e-03 9.23746688e-03 1.94019032e-03 1.41203728e-03\n",
      " 3.99999119e-04 1.20856896e-02 9.59509832e-03 2.05885712e-02\n",
      " 3.16895456e-03 6.03237212e-03 4.96290127e-03 9.32725696e-02\n",
      " 1.37927670e-03 3.44150761e-03 3.10031613e-03 4.18819606e-04\n",
      " 1.96766531e-05 3.42600043e-03 9.18460327e-05 1.06271498e-03\n",
      " 1.89985215e-02 4.28917171e-03 1.41533407e-02 1.75093049e-04\n",
      " 9.30031770e-04 6.28521220e-04 7.26642017e-03 1.15878049e-04\n",
      " 9.05848247e-04 3.07188139e-03 0.00000000e+00 9.21489995e-05\n",
      " 2.84047148e-05 8.91576695e-05 1.91567873e-02 1.70742411e-02\n",
      " 2.71274159e-02 1.78722994e-02 2.56849981e-02 4.81660747e-03\n",
      " 1.28138629e-01 5.21855591e-03 2.87708015e-03 1.17684107e-02\n",
      " 6.48972007e-03 5.26036789e-03 5.15083887e-03 6.32857955e-03]\n",
      "<pandas.io.formats.style.Styler object at 0x000001F9A17E2C10>\n",
      "El proceso de selección de características para la variable objetivo FIBR_PREDS obtiene             un total de 68 características.\n"
     ]
    },
    {
     "name": "stderr",
     "output_type": "stream",
     "text": [
      "<ipython-input-5-d3de15a69c67>:24: SettingWithCopyWarning: \n",
      "A value is trying to be set on a copy of a slice from a DataFrame.\n",
      "Try using .loc[row_indexer,col_indexer] = value instead\n",
      "\n",
      "See the caveats in the documentation: https://pandas.pydata.org/pandas-docs/stable/user_guide/indexing.html#returning-a-view-versus-a-copy\n",
      "  X_train_caracterizado[\"var_objetivo\"] = var_objetivo\n",
      "<ipython-input-5-d3de15a69c67>:25: SettingWithCopyWarning: \n",
      "A value is trying to be set on a copy of a slice from a DataFrame.\n",
      "Try using .loc[row_indexer,col_indexer] = value instead\n",
      "\n",
      "See the caveats in the documentation: https://pandas.pydata.org/pandas-docs/stable/user_guide/indexing.html#returning-a-view-versus-a-copy\n",
      "  X_test_caracterizado[\"var_objetivo\"]  = var_objetivo\n",
      "D:\\Users\\coliverac\\Anaconda3\\lib\\site-packages\\pandas\\core\\frame.py:4308: SettingWithCopyWarning: \n",
      "A value is trying to be set on a copy of a slice from a DataFrame\n",
      "\n",
      "See the caveats in the documentation: https://pandas.pydata.org/pandas-docs/stable/user_guide/indexing.html#returning-a-view-versus-a-copy\n",
      "  return super().drop(\n",
      "<ipython-input-5-d3de15a69c67>:11: DataConversionWarning: A column-vector y was passed when a 1d array was expected. Please change the shape of y to (n_samples,), for example using ravel().\n",
      "  rf.fit(X_train, y_train)\n"
     ]
    },
    {
     "name": "stdout",
     "output_type": "stream",
     "text": [
      "[7.91101887e-04 4.48554343e-03 7.21425242e-03 9.58415577e-04\n",
      " 1.92223117e-03 1.06283612e-02 1.00449218e-01 5.56303534e-04\n",
      " 3.63995303e-03 1.06019396e-02 5.03901476e-04 1.85044151e-05\n",
      " 0.00000000e+00 2.86033903e-04 1.84456457e-05 0.00000000e+00\n",
      " 7.02701393e-05 0.00000000e+00 3.57692489e-05 0.00000000e+00\n",
      " 0.00000000e+00 1.83213094e-04 4.50811902e-05 3.59543875e-05\n",
      " 1.52082158e-02 2.32571923e-03 1.83310161e-05 1.84368685e-03\n",
      " 8.86865274e-03 9.60578562e-04 3.61030810e-05 9.08284201e-05\n",
      " 9.28678043e-03 5.57372756e-02 3.03041428e-03 2.04726275e-04\n",
      " 3.77654160e-04 8.97225898e-02 9.89114449e-05 1.36929843e-04\n",
      " 5.76266703e-03 2.81162681e-03 2.42339328e-03 1.14803317e-02\n",
      " 1.39588017e-03 3.01484429e-02 6.42339862e-03 9.87029949e-04\n",
      " 7.53326866e-04 4.56258916e-03 3.49484428e-03 2.85369841e-03\n",
      " 3.26266153e-03 2.14958224e-03 3.58871853e-03 2.93260312e-03\n",
      " 4.45719766e-03 3.84108730e-02 7.18508825e-03 6.21026181e-03\n",
      " 3.12080580e-02 5.75103757e-03 1.72763608e-02 7.84157207e-03\n",
      " 2.86546807e-03 2.36781193e-02 4.54942173e-03 2.93095636e-03\n",
      " 2.15183128e-03 1.89395849e-03 2.42128866e-03 1.74765261e-03\n",
      " 4.82708775e-04 5.69526795e-03 1.27511658e-04 5.90287379e-04\n",
      " 5.45165476e-05 3.02682705e-04 4.58659901e-03 6.47311588e-03\n",
      " 2.52393031e-02 1.07833269e-02 6.56389452e-03 1.40445249e-03\n",
      " 3.23535561e-01 1.45736239e-04 1.07716845e-02 4.13463859e-04\n",
      " 3.79654817e-03 1.76538790e-02 5.35004030e-04 4.84262534e-03]\n",
      "<pandas.io.formats.style.Styler object at 0x000001F9A2338430>\n",
      "El proceso de selección de características para la variable objetivo PREDS_TAH obtiene             un total de 60 características.\n"
     ]
    },
    {
     "name": "stderr",
     "output_type": "stream",
     "text": [
      "<ipython-input-5-d3de15a69c67>:24: SettingWithCopyWarning: \n",
      "A value is trying to be set on a copy of a slice from a DataFrame.\n",
      "Try using .loc[row_indexer,col_indexer] = value instead\n",
      "\n",
      "See the caveats in the documentation: https://pandas.pydata.org/pandas-docs/stable/user_guide/indexing.html#returning-a-view-versus-a-copy\n",
      "  X_train_caracterizado[\"var_objetivo\"] = var_objetivo\n",
      "<ipython-input-5-d3de15a69c67>:25: SettingWithCopyWarning: \n",
      "A value is trying to be set on a copy of a slice from a DataFrame.\n",
      "Try using .loc[row_indexer,col_indexer] = value instead\n",
      "\n",
      "See the caveats in the documentation: https://pandas.pydata.org/pandas-docs/stable/user_guide/indexing.html#returning-a-view-versus-a-copy\n",
      "  X_test_caracterizado[\"var_objetivo\"]  = var_objetivo\n",
      "D:\\Users\\coliverac\\Anaconda3\\lib\\site-packages\\pandas\\core\\frame.py:4308: SettingWithCopyWarning: \n",
      "A value is trying to be set on a copy of a slice from a DataFrame\n",
      "\n",
      "See the caveats in the documentation: https://pandas.pydata.org/pandas-docs/stable/user_guide/indexing.html#returning-a-view-versus-a-copy\n",
      "  return super().drop(\n",
      "<ipython-input-5-d3de15a69c67>:11: DataConversionWarning: A column-vector y was passed when a 1d array was expected. Please change the shape of y to (n_samples,), for example using ravel().\n",
      "  rf.fit(X_train, y_train)\n"
     ]
    },
    {
     "name": "stdout",
     "output_type": "stream",
     "text": [
      "[4.76840271e-03 9.18807330e-03 7.59535577e-02 4.15561032e-03\n",
      " 1.09181597e-02 3.20114780e-03 3.60373464e-02 6.99479111e-04\n",
      " 1.59486487e-03 4.54553144e-03 6.67291948e-03 9.53363341e-06\n",
      " 3.47931196e-04 1.84607608e-05 4.52832646e-05 6.03870760e-05\n",
      " 4.78854772e-05 1.89475796e-05 7.48181014e-05 6.89441365e-05\n",
      " 1.29692638e-04 7.77657973e-04 0.00000000e+00 0.00000000e+00\n",
      " 5.91484470e-04 1.12736840e-03 3.71633447e-04 2.41084016e-03\n",
      " 5.25423631e-03 2.16757612e-04 0.00000000e+00 0.00000000e+00\n",
      " 4.26038227e-03 7.02228885e-03 2.46102758e-03 6.74761931e-05\n",
      " 4.40744382e-03 0.00000000e+00 3.60367267e-03 2.60806218e-02\n",
      " 1.73953335e-03 8.09975070e-03 7.10022563e-03 4.01270311e-03\n",
      " 1.42867150e-01 1.97075110e-03 1.14973271e-02 3.88447076e-03\n",
      " 1.82167944e-03 4.33621317e-03 1.63495796e-03 4.85027681e-02\n",
      " 2.43887395e-03 3.66881285e-03 2.09204380e-02 7.28124980e-04\n",
      " 2.76184744e-03 8.16185152e-04 2.61758535e-03 7.60697953e-04\n",
      " 4.46250405e-04 9.77960478e-03 0.00000000e+00 2.84363896e-04\n",
      " 1.93331059e-03 3.81849410e-03 1.56847616e-02 6.20269457e-04\n",
      " 9.09352229e-03 5.97943373e-05 3.57949142e-03 2.33555807e-04\n",
      " 4.02466132e-03 6.02956386e-03 3.71730354e-04 5.61787214e-04\n",
      " 9.42496661e-04 4.43513838e-04 1.38928990e-02 2.53227926e-02\n",
      " 2.90672717e-02 1.14265183e-02 2.49263890e-02 5.82929370e-03\n",
      " 5.66122655e-03 3.01224178e-01 6.55036364e-03 1.00268462e-02\n",
      " 1.45516408e-02 2.30825294e-03 1.27521014e-03 6.39981065e-04]\n",
      "<pandas.io.formats.style.Styler object at 0x000001F9A23A7490>\n",
      "El proceso de selección de características para la variable objetivo JELUD_TAH obtiene             un total de 58 características.\n"
     ]
    },
    {
     "name": "stderr",
     "output_type": "stream",
     "text": [
      "<ipython-input-5-d3de15a69c67>:24: SettingWithCopyWarning: \n",
      "A value is trying to be set on a copy of a slice from a DataFrame.\n",
      "Try using .loc[row_indexer,col_indexer] = value instead\n",
      "\n",
      "See the caveats in the documentation: https://pandas.pydata.org/pandas-docs/stable/user_guide/indexing.html#returning-a-view-versus-a-copy\n",
      "  X_train_caracterizado[\"var_objetivo\"] = var_objetivo\n",
      "<ipython-input-5-d3de15a69c67>:25: SettingWithCopyWarning: \n",
      "A value is trying to be set on a copy of a slice from a DataFrame.\n",
      "Try using .loc[row_indexer,col_indexer] = value instead\n",
      "\n",
      "See the caveats in the documentation: https://pandas.pydata.org/pandas-docs/stable/user_guide/indexing.html#returning-a-view-versus-a-copy\n",
      "  X_test_caracterizado[\"var_objetivo\"]  = var_objetivo\n",
      "D:\\Users\\coliverac\\Anaconda3\\lib\\site-packages\\pandas\\core\\frame.py:4308: SettingWithCopyWarning: \n",
      "A value is trying to be set on a copy of a slice from a DataFrame\n",
      "\n",
      "See the caveats in the documentation: https://pandas.pydata.org/pandas-docs/stable/user_guide/indexing.html#returning-a-view-versus-a-copy\n",
      "  return super().drop(\n",
      "<ipython-input-5-d3de15a69c67>:11: DataConversionWarning: A column-vector y was passed when a 1d array was expected. Please change the shape of y to (n_samples,), for example using ravel().\n",
      "  rf.fit(X_train, y_train)\n"
     ]
    },
    {
     "name": "stdout",
     "output_type": "stream",
     "text": [
      "[1.83567810e-03 1.13202539e-02 2.11125985e-03 1.50135843e-02\n",
      " 1.12517399e-02 2.45717028e-03 8.54449070e-03 1.18051943e-03\n",
      " 2.55608182e-03 1.42466062e-03 1.04260117e-03 1.10279664e-04\n",
      " 2.19531730e-03 8.87644405e-04 6.57510464e-03 5.22047724e-05\n",
      " 4.12686538e-05 9.22547045e-05 1.64177750e-04 3.59951130e-05\n",
      " 3.60969090e-05 2.59398328e-04 5.68351731e-05 0.00000000e+00\n",
      " 2.81145580e-03 1.37002201e-03 1.30045833e-03 7.46699794e-03\n",
      " 8.21843832e-04 2.78415424e-02 4.15355157e-04 5.30418800e-05\n",
      " 1.18620536e-02 8.99428316e-02 8.83616456e-04 8.53029277e-04\n",
      " 1.28008824e-02 0.00000000e+00 8.43036638e-04 1.82434992e-02\n",
      " 2.34966726e-03 8.82744105e-03 4.10701881e-03 2.25538391e-03\n",
      " 3.25965008e-02 1.04775109e-03 3.88853334e-04 2.56821581e-02\n",
      " 5.95562401e-03 2.13138616e-03 5.74860230e-04 5.77957586e-03\n",
      " 1.78556901e-05 8.26364767e-03 8.88519837e-03 6.15748313e-04\n",
      " 1.99232021e-03 5.25329155e-05 1.04283080e-04 2.91874847e-03\n",
      " 1.64176427e-03 2.90865269e-03 8.16540331e-05 4.64866215e-05\n",
      " 3.37114856e-04 5.58274296e-03 1.35533957e-04 2.72858197e-03\n",
      " 6.75500339e-05 3.35195882e-05 2.27136326e-03 8.81400690e-04\n",
      " 1.17636565e-02 6.73287302e-03 4.97509713e-04 1.33447566e-03\n",
      " 4.68208237e-04 0.00000000e+00 9.35635333e-02 7.67275937e-03\n",
      " 1.44824028e-02 2.79780219e-03 3.74755817e-02 7.74291937e-03\n",
      " 2.65365621e-02 3.76278435e-01 1.09938409e-03 2.55981795e-03\n",
      " 8.51439980e-03 8.31182840e-03 1.27938686e-02 1.35677744e-03]\n",
      "<pandas.io.formats.style.Styler object at 0x000001F9A16F92B0>\n",
      "El proceso de selección de características para la variable objetivo FIBR_JELUD obtiene             un total de 58 características.\n"
     ]
    },
    {
     "name": "stderr",
     "output_type": "stream",
     "text": [
      "<ipython-input-5-d3de15a69c67>:24: SettingWithCopyWarning: \n",
      "A value is trying to be set on a copy of a slice from a DataFrame.\n",
      "Try using .loc[row_indexer,col_indexer] = value instead\n",
      "\n",
      "See the caveats in the documentation: https://pandas.pydata.org/pandas-docs/stable/user_guide/indexing.html#returning-a-view-versus-a-copy\n",
      "  X_train_caracterizado[\"var_objetivo\"] = var_objetivo\n",
      "<ipython-input-5-d3de15a69c67>:25: SettingWithCopyWarning: \n",
      "A value is trying to be set on a copy of a slice from a DataFrame.\n",
      "Try using .loc[row_indexer,col_indexer] = value instead\n",
      "\n",
      "See the caveats in the documentation: https://pandas.pydata.org/pandas-docs/stable/user_guide/indexing.html#returning-a-view-versus-a-copy\n",
      "  X_test_caracterizado[\"var_objetivo\"]  = var_objetivo\n",
      "D:\\Users\\coliverac\\Anaconda3\\lib\\site-packages\\pandas\\core\\frame.py:4308: SettingWithCopyWarning: \n",
      "A value is trying to be set on a copy of a slice from a DataFrame\n",
      "\n",
      "See the caveats in the documentation: https://pandas.pydata.org/pandas-docs/stable/user_guide/indexing.html#returning-a-view-versus-a-copy\n",
      "  return super().drop(\n",
      "<ipython-input-5-d3de15a69c67>:11: DataConversionWarning: A column-vector y was passed when a 1d array was expected. Please change the shape of y to (n_samples,), for example using ravel().\n",
      "  rf.fit(X_train, y_train)\n"
     ]
    },
    {
     "name": "stdout",
     "output_type": "stream",
     "text": [
      "[2.78099013e-03 1.34018214e-02 5.70724729e-03 2.04132552e-02\n",
      " 9.93749589e-03 1.11222638e-02 1.04887514e-02 1.13998404e-03\n",
      " 6.30317782e-03 1.23883709e-03 1.49746672e-03 1.08583703e-04\n",
      " 1.26735933e-04 6.62138435e-04 8.89883419e-05 4.73635306e-05\n",
      " 1.80970750e-04 0.00000000e+00 1.22640155e-04 0.00000000e+00\n",
      " 1.84476113e-05 5.89367573e-04 0.00000000e+00 0.00000000e+00\n",
      " 9.88683675e-03 1.22829359e-03 1.88372126e-05 9.17216876e-03\n",
      " 2.82023194e-03 1.02472187e-04 4.66962248e-03 1.17660355e-03\n",
      " 7.02229428e-03 2.86721090e-02 2.77907365e-03 3.20316034e-04\n",
      " 1.31800350e-02 4.01285796e-04 4.02306647e-04 9.34271329e-04\n",
      " 2.18405647e-03 1.77680020e-02 3.43261276e-01 1.23096278e-02\n",
      " 1.17861252e-03 1.88334929e-02 2.63949330e-03 2.57119675e-02\n",
      " 6.84971114e-04 1.02541462e-02 1.40077141e-03 4.97642461e-02\n",
      " 6.49912755e-05 2.59195668e-03 2.86533058e-03 1.14499817e-02\n",
      " 3.85941450e-03 3.01138322e-04 7.74805334e-05 7.80975864e-05\n",
      " 5.14662911e-06 6.06698438e-03 1.28166458e-04 5.01059490e-04\n",
      " 1.37618532e-02 3.50447414e-03 2.45078331e-04 1.71704538e-02\n",
      " 1.11412550e-03 1.05982444e-04 7.37358097e-02 1.32786066e-03\n",
      " 2.42474542e-04 4.91980847e-03 0.00000000e+00 2.83778178e-04\n",
      " 2.42382886e-04 1.90258342e-05 2.46715695e-02 1.05713389e-02\n",
      " 7.79807051e-03 3.06832478e-02 2.30701480e-02 9.25355482e-03\n",
      " 2.30845196e-02 1.46739157e-02 6.74703734e-03 3.03135622e-02\n",
      " 3.22587067e-03 1.12398350e-02 1.99359907e-03 3.25692635e-03]\n",
      "<pandas.io.formats.style.Styler object at 0x000001F9A17E2940>\n",
      "El proceso de selección de características para la variable objetivo A_V_BLOK obtiene             un total de 59 características.\n"
     ]
    },
    {
     "name": "stderr",
     "output_type": "stream",
     "text": [
      "<ipython-input-5-d3de15a69c67>:24: SettingWithCopyWarning: \n",
      "A value is trying to be set on a copy of a slice from a DataFrame.\n",
      "Try using .loc[row_indexer,col_indexer] = value instead\n",
      "\n",
      "See the caveats in the documentation: https://pandas.pydata.org/pandas-docs/stable/user_guide/indexing.html#returning-a-view-versus-a-copy\n",
      "  X_train_caracterizado[\"var_objetivo\"] = var_objetivo\n",
      "<ipython-input-5-d3de15a69c67>:25: SettingWithCopyWarning: \n",
      "A value is trying to be set on a copy of a slice from a DataFrame.\n",
      "Try using .loc[row_indexer,col_indexer] = value instead\n",
      "\n",
      "See the caveats in the documentation: https://pandas.pydata.org/pandas-docs/stable/user_guide/indexing.html#returning-a-view-versus-a-copy\n",
      "  X_test_caracterizado[\"var_objetivo\"]  = var_objetivo\n",
      "D:\\Users\\coliverac\\Anaconda3\\lib\\site-packages\\pandas\\core\\frame.py:4308: SettingWithCopyWarning: \n",
      "A value is trying to be set on a copy of a slice from a DataFrame\n",
      "\n",
      "See the caveats in the documentation: https://pandas.pydata.org/pandas-docs/stable/user_guide/indexing.html#returning-a-view-versus-a-copy\n",
      "  return super().drop(\n",
      "<ipython-input-5-d3de15a69c67>:11: DataConversionWarning: A column-vector y was passed when a 1d array was expected. Please change the shape of y to (n_samples,), for example using ravel().\n",
      "  rf.fit(X_train, y_train)\n"
     ]
    },
    {
     "name": "stdout",
     "output_type": "stream",
     "text": [
      "[5.27637265e-03 3.47671915e-02 1.02629117e-02 1.24868997e-02\n",
      " 8.07008053e-03 8.26330499e-03 3.85086452e-02 6.89261109e-04\n",
      " 1.60901060e-02 1.44068378e-02 7.07017648e-04 5.76917246e-04\n",
      " 1.62772572e-03 1.43028279e-03 3.08410199e-04 1.90409699e-05\n",
      " 2.07588545e-04 5.74843079e-05 1.84731549e-04 1.48039044e-03\n",
      " 8.43218657e-05 1.52082482e-03 1.12142703e-04 1.28738401e-04\n",
      " 4.66557756e-03 1.00357269e-03 5.60793300e-04 4.10444293e-03\n",
      " 1.25046114e-02 5.35581588e-04 2.27805475e-04 1.59670313e-03\n",
      " 2.84867233e-02 1.45006648e-02 1.92245638e-02 3.80268196e-03\n",
      " 1.13171744e-03 2.34278169e-03 3.50494773e-03 4.32692220e-04\n",
      " 9.86610674e-03 9.47097261e-03 1.61394796e-02 1.09160045e-02\n",
      " 1.53063322e-03 6.68289297e-03 1.18645039e-03 9.90317316e-03\n",
      " 1.62531135e-01 4.26107135e-03 7.20166395e-04 9.20606396e-04\n",
      " 2.87906791e-03 3.11341371e-03 3.50924697e-03 4.38649891e-03\n",
      " 1.65183398e-03 7.00187153e-04 7.94784733e-04 1.32470715e-04\n",
      " 1.70134156e-04 1.06418734e-03 1.11165344e-04 1.05403513e-04\n",
      " 2.60669892e-04 2.53106278e-03 1.21484803e-03 1.07914451e-03\n",
      " 1.45078487e-03 4.87252841e-03 3.89847863e-03 5.19063923e-04\n",
      " 1.37294971e-03 6.66597499e-04 6.98653189e-04 5.56727837e-04\n",
      " 6.79691772e-04 2.93085968e-03 9.90400868e-03 1.09608298e-02\n",
      " 1.27353229e-02 2.00160820e-02 1.63450492e-02 2.23436761e-01\n",
      " 1.34082066e-01 1.12415343e-02 7.38687356e-03 2.44266990e-03\n",
      " 3.98974628e-03 3.21290971e-03 8.41856166e-03 4.45534829e-03]\n",
      "<pandas.io.formats.style.Styler object at 0x000001F9A23382E0>\n",
      "El proceso de selección de características para la variable objetivo OTEK_LANC obtiene             un total de 64 características.\n"
     ]
    },
    {
     "name": "stderr",
     "output_type": "stream",
     "text": [
      "<ipython-input-5-d3de15a69c67>:24: SettingWithCopyWarning: \n",
      "A value is trying to be set on a copy of a slice from a DataFrame.\n",
      "Try using .loc[row_indexer,col_indexer] = value instead\n",
      "\n",
      "See the caveats in the documentation: https://pandas.pydata.org/pandas-docs/stable/user_guide/indexing.html#returning-a-view-versus-a-copy\n",
      "  X_train_caracterizado[\"var_objetivo\"] = var_objetivo\n",
      "<ipython-input-5-d3de15a69c67>:25: SettingWithCopyWarning: \n",
      "A value is trying to be set on a copy of a slice from a DataFrame.\n",
      "Try using .loc[row_indexer,col_indexer] = value instead\n",
      "\n",
      "See the caveats in the documentation: https://pandas.pydata.org/pandas-docs/stable/user_guide/indexing.html#returning-a-view-versus-a-copy\n",
      "  X_test_caracterizado[\"var_objetivo\"]  = var_objetivo\n",
      "D:\\Users\\coliverac\\Anaconda3\\lib\\site-packages\\pandas\\core\\frame.py:4308: SettingWithCopyWarning: \n",
      "A value is trying to be set on a copy of a slice from a DataFrame\n",
      "\n",
      "See the caveats in the documentation: https://pandas.pydata.org/pandas-docs/stable/user_guide/indexing.html#returning-a-view-versus-a-copy\n",
      "  return super().drop(\n",
      "<ipython-input-5-d3de15a69c67>:11: DataConversionWarning: A column-vector y was passed when a 1d array was expected. Please change the shape of y to (n_samples,), for example using ravel().\n",
      "  rf.fit(X_train, y_train)\n"
     ]
    },
    {
     "name": "stdout",
     "output_type": "stream",
     "text": [
      "[2.96532762e-03 2.84673914e-01 4.81694153e-02 6.76178081e-03\n",
      " 6.85813534e-03 2.07024468e-02 2.28436818e-02 3.48362558e-03\n",
      " 4.91064947e-03 2.61602416e-02 6.68318304e-04 1.47962950e-04\n",
      " 7.48671504e-05 7.62709509e-04 6.37293365e-04 1.51729492e-04\n",
      " 2.47745220e-04 2.16948031e-04 1.56832058e-04 5.46146751e-05\n",
      " 2.05461656e-04 1.04908848e-04 1.16933080e-04 2.09272828e-04\n",
      " 1.37483897e-02 2.81964866e-02 2.65065289e-03 1.03068733e-03\n",
      " 1.85521890e-03 5.93435998e-03 1.57261855e-04 1.04463477e-03\n",
      " 2.30278860e-02 1.27611025e-02 8.49481218e-03 4.17321455e-04\n",
      " 1.48556423e-03 4.52822991e-05 1.26555289e-04 2.39687293e-04\n",
      " 6.07686797e-02 2.96043309e-02 6.49266937e-02 4.47454011e-03\n",
      " 2.78580653e-03 5.66400387e-04 1.34983537e-03 2.10474110e-03\n",
      " 1.29168844e-03 3.02751341e-04 2.68888834e-03 2.29666768e-03\n",
      " 6.88459027e-04 5.46084942e-03 1.74786620e-04 3.73792253e-03\n",
      " 5.00797535e-04 0.00000000e+00 0.00000000e+00 3.57709747e-05\n",
      " 2.45228455e-03 2.49917335e-03 5.64030120e-05 3.27069491e-04\n",
      " 1.34504084e-03 1.61117776e-02 4.81883826e-04 2.15854617e-03\n",
      " 3.72309748e-04 4.73140652e-05 2.94001784e-03 3.08816388e-03\n",
      " 1.79351634e-04 3.41362676e-04 1.60384760e-05 0.00000000e+00\n",
      " 0.00000000e+00 1.48722866e-04 9.56740349e-03 6.89536493e-03\n",
      " 2.36753978e-02 8.31760529e-03 1.78254916e-01 9.66465912e-04\n",
      " 3.14624339e-03 4.23926735e-03 3.71580878e-03 2.66657558e-03\n",
      " 1.97566676e-03 4.79833933e-03 9.17433598e-04 2.03772418e-03]\n",
      "<pandas.io.formats.style.Styler object at 0x000001F9A16E7F70>\n",
      "El proceso de selección de características para la variable objetivo RAZRIV obtiene             un total de 54 características.\n"
     ]
    },
    {
     "name": "stderr",
     "output_type": "stream",
     "text": [
      "<ipython-input-5-d3de15a69c67>:24: SettingWithCopyWarning: \n",
      "A value is trying to be set on a copy of a slice from a DataFrame.\n",
      "Try using .loc[row_indexer,col_indexer] = value instead\n",
      "\n",
      "See the caveats in the documentation: https://pandas.pydata.org/pandas-docs/stable/user_guide/indexing.html#returning-a-view-versus-a-copy\n",
      "  X_train_caracterizado[\"var_objetivo\"] = var_objetivo\n",
      "<ipython-input-5-d3de15a69c67>:25: SettingWithCopyWarning: \n",
      "A value is trying to be set on a copy of a slice from a DataFrame.\n",
      "Try using .loc[row_indexer,col_indexer] = value instead\n",
      "\n",
      "See the caveats in the documentation: https://pandas.pydata.org/pandas-docs/stable/user_guide/indexing.html#returning-a-view-versus-a-copy\n",
      "  X_test_caracterizado[\"var_objetivo\"]  = var_objetivo\n",
      "D:\\Users\\coliverac\\Anaconda3\\lib\\site-packages\\pandas\\core\\frame.py:4308: SettingWithCopyWarning: \n",
      "A value is trying to be set on a copy of a slice from a DataFrame\n",
      "\n",
      "See the caveats in the documentation: https://pandas.pydata.org/pandas-docs/stable/user_guide/indexing.html#returning-a-view-versus-a-copy\n",
      "  return super().drop(\n",
      "<ipython-input-5-d3de15a69c67>:11: DataConversionWarning: A column-vector y was passed when a 1d array was expected. Please change the shape of y to (n_samples,), for example using ravel().\n",
      "  rf.fit(X_train, y_train)\n"
     ]
    },
    {
     "name": "stdout",
     "output_type": "stream",
     "text": [
      "[4.39727260e-03 2.43454470e-02 4.17309367e-03 6.58168170e-02\n",
      " 7.42738443e-03 7.77241245e-02 6.43695372e-03 2.97619360e-03\n",
      " 1.12009594e-02 6.13169276e-03 1.16650355e-03 0.00000000e+00\n",
      " 5.96138838e-04 8.29175198e-04 0.00000000e+00 3.51111527e-05\n",
      " 0.00000000e+00 0.00000000e+00 0.00000000e+00 7.29728561e-05\n",
      " 0.00000000e+00 0.00000000e+00 9.83430919e-05 0.00000000e+00\n",
      " 2.71297357e-02 5.07681512e-04 1.03678442e-02 1.02429111e-02\n",
      " 8.50306161e-03 1.32132583e-03 1.00734819e-03 4.15753296e-03\n",
      " 1.09394700e-02 1.05319604e-02 1.97167442e-03 2.42934092e-04\n",
      " 4.19780586e-04 9.23326868e-05 2.79768867e-04 4.38481343e-04\n",
      " 1.34367333e-02 1.66204735e-02 1.15009828e-02 5.23126025e-03\n",
      " 2.53768227e-03 9.76545961e-02 2.74778374e-04 1.03524084e-03\n",
      " 6.82015837e-04 2.39621827e-03 2.46420571e-04 3.16633378e-03\n",
      " 1.60354063e-02 1.02066561e-02 9.44011013e-03 7.92627319e-04\n",
      " 1.70060759e-04 2.33511872e-04 2.93711704e-04 2.16237984e-04\n",
      " 2.11757011e-04 4.15324663e-03 1.60303769e-03 1.36306039e-03\n",
      " 5.11535838e-04 2.45561498e-03 1.44412284e-04 1.13131048e-03\n",
      " 1.38475761e-03 9.28039691e-03 2.96825653e-03 1.44138760e-03\n",
      " 3.20794803e-03 1.05764274e-02 6.45199711e-03 1.22006377e-04\n",
      " 7.88535245e-03 7.32259207e-04 1.58010374e-02 2.26360809e-01\n",
      " 1.16333311e-02 1.84013803e-02 2.29529430e-02 1.14738799e-02\n",
      " 2.95329967e-02 1.68163580e-02 1.06840870e-02 7.96421956e-03\n",
      " 4.72591291e-03 4.95063307e-03 1.92736495e-03 6.73971975e-02]\n",
      "<pandas.io.formats.style.Styler object at 0x000001F9A2397AF0>\n",
      "El proceso de selección de características para la variable objetivo DRESSLER obtiene             un total de 60 características.\n"
     ]
    },
    {
     "name": "stderr",
     "output_type": "stream",
     "text": [
      "<ipython-input-5-d3de15a69c67>:24: SettingWithCopyWarning: \n",
      "A value is trying to be set on a copy of a slice from a DataFrame.\n",
      "Try using .loc[row_indexer,col_indexer] = value instead\n",
      "\n",
      "See the caveats in the documentation: https://pandas.pydata.org/pandas-docs/stable/user_guide/indexing.html#returning-a-view-versus-a-copy\n",
      "  X_train_caracterizado[\"var_objetivo\"] = var_objetivo\n",
      "<ipython-input-5-d3de15a69c67>:25: SettingWithCopyWarning: \n",
      "A value is trying to be set on a copy of a slice from a DataFrame.\n",
      "Try using .loc[row_indexer,col_indexer] = value instead\n",
      "\n",
      "See the caveats in the documentation: https://pandas.pydata.org/pandas-docs/stable/user_guide/indexing.html#returning-a-view-versus-a-copy\n",
      "  X_test_caracterizado[\"var_objetivo\"]  = var_objetivo\n",
      "D:\\Users\\coliverac\\Anaconda3\\lib\\site-packages\\pandas\\core\\frame.py:4308: SettingWithCopyWarning: \n",
      "A value is trying to be set on a copy of a slice from a DataFrame\n",
      "\n",
      "See the caveats in the documentation: https://pandas.pydata.org/pandas-docs/stable/user_guide/indexing.html#returning-a-view-versus-a-copy\n",
      "  return super().drop(\n",
      "<ipython-input-5-d3de15a69c67>:11: DataConversionWarning: A column-vector y was passed when a 1d array was expected. Please change the shape of y to (n_samples,), for example using ravel().\n",
      "  rf.fit(X_train, y_train)\n"
     ]
    },
    {
     "name": "stdout",
     "output_type": "stream",
     "text": [
      "[5.18496605e-03 7.61671199e-02 1.57123162e-02 1.30722626e-02\n",
      " 7.06255295e-03 2.08535846e-02 2.94453365e-02 2.94348553e-03\n",
      " 1.48289363e-02 2.12248590e-01 1.76797241e-03 3.49729912e-03\n",
      " 1.84638631e-03 2.20759281e-03 1.10051793e-03 2.85534602e-03\n",
      " 2.29371203e-03 1.38370579e-03 4.11873225e-04 1.50913298e-03\n",
      " 2.10179215e-04 5.03701273e-03 2.13442573e-03 6.50911031e-04\n",
      " 1.00490117e-02 1.67354384e-03 2.45537100e-03 9.45995385e-03\n",
      " 4.66112228e-03 2.10257866e-03 9.11322951e-04 1.39862410e-03\n",
      " 3.35137458e-02 2.86340488e-02 4.39658176e-03 2.43849535e-03\n",
      " 3.87057160e-03 3.13734979e-04 6.65027309e-04 4.63532516e-04\n",
      " 1.15614123e-02 4.59041239e-02 1.24902582e-02 1.04331070e-02\n",
      " 1.76051819e-03 6.25672686e-03 2.80628304e-03 1.08712340e-03\n",
      " 6.22872080e-04 5.17584742e-03 3.85049770e-03 4.37146291e-03\n",
      " 6.65855062e-04 5.57478928e-03 2.80317594e-03 2.63993650e-03\n",
      " 4.39900825e-03 2.87747459e-04 1.11334357e-03 3.06707160e-04\n",
      " 4.21864151e-04 2.38702813e-03 8.23020672e-04 2.89950105e-04\n",
      " 1.69182040e-03 3.94409310e-03 3.54916531e-04 6.05131646e-03\n",
      " 3.07132929e-03 2.01107743e-03 6.63778282e-03 2.83940327e-04\n",
      " 3.06908211e-04 4.19331203e-03 6.75029805e-04 3.32929523e-04\n",
      " 3.52682850e-04 2.20696534e-04 4.61801709e-02 6.44196981e-02\n",
      " 4.18685384e-02 3.64510066e-02 2.44587101e-02 6.23401562e-03\n",
      " 4.01328590e-02 8.62908596e-03 6.91320696e-03 1.33588010e-02\n",
      " 6.15892229e-03 6.54124132e-03 1.48400028e-03 7.57676475e-03]\n",
      "<pandas.io.formats.style.Styler object at 0x000001F9A1692610>\n",
      "El proceso de selección de características para la variable objetivo ZSN obtiene             un total de 72 características.\n"
     ]
    },
    {
     "name": "stderr",
     "output_type": "stream",
     "text": [
      "<ipython-input-5-d3de15a69c67>:24: SettingWithCopyWarning: \n",
      "A value is trying to be set on a copy of a slice from a DataFrame.\n",
      "Try using .loc[row_indexer,col_indexer] = value instead\n",
      "\n",
      "See the caveats in the documentation: https://pandas.pydata.org/pandas-docs/stable/user_guide/indexing.html#returning-a-view-versus-a-copy\n",
      "  X_train_caracterizado[\"var_objetivo\"] = var_objetivo\n",
      "<ipython-input-5-d3de15a69c67>:25: SettingWithCopyWarning: \n",
      "A value is trying to be set on a copy of a slice from a DataFrame.\n",
      "Try using .loc[row_indexer,col_indexer] = value instead\n",
      "\n",
      "See the caveats in the documentation: https://pandas.pydata.org/pandas-docs/stable/user_guide/indexing.html#returning-a-view-versus-a-copy\n",
      "  X_test_caracterizado[\"var_objetivo\"]  = var_objetivo\n",
      "D:\\Users\\coliverac\\Anaconda3\\lib\\site-packages\\pandas\\core\\frame.py:4308: SettingWithCopyWarning: \n",
      "A value is trying to be set on a copy of a slice from a DataFrame\n",
      "\n",
      "See the caveats in the documentation: https://pandas.pydata.org/pandas-docs/stable/user_guide/indexing.html#returning-a-view-versus-a-copy\n",
      "  return super().drop(\n",
      "<ipython-input-5-d3de15a69c67>:11: DataConversionWarning: A column-vector y was passed when a 1d array was expected. Please change the shape of y to (n_samples,), for example using ravel().\n",
      "  rf.fit(X_train, y_train)\n"
     ]
    },
    {
     "name": "stdout",
     "output_type": "stream",
     "text": [
      "[1.18917828e-02 4.02453032e-02 2.37100310e-02 4.30267424e-02\n",
      " 4.10988673e-02 3.45976075e-02 1.67050899e-02 1.55334949e-03\n",
      " 1.07127362e-02 4.83664101e-03 1.26282160e-03 1.37356013e-03\n",
      " 1.43445650e-03 3.75556953e-03 4.49348570e-03 4.94576809e-05\n",
      " 2.23078525e-04 2.73458531e-03 5.04410514e-04 1.68452342e-03\n",
      " 2.00523884e-04 2.67041235e-04 1.23520592e-04 1.50556435e-03\n",
      " 3.22943938e-03 3.08517865e-03 1.54628548e-03 2.10414010e-03\n",
      " 8.64310147e-03 3.43115868e-03 1.03116789e-05 1.82771010e-03\n",
      " 1.58641386e-02 2.01416687e-02 6.55639365e-03 7.56565638e-04\n",
      " 1.04877431e-03 2.82084986e-04 9.55918325e-04 2.57921635e-03\n",
      " 1.31007557e-02 3.23066309e-02 1.42004267e-02 1.00549065e-02\n",
      " 2.62846220e-03 3.91566486e-03 1.41187968e-03 8.61160481e-04\n",
      " 1.46312584e-03 4.15725416e-03 7.22818278e-04 1.90302999e-03\n",
      " 1.81880964e-03 7.42287651e-03 6.33105846e-03 1.01343306e-03\n",
      " 1.39481653e-02 2.83513308e-03 1.45070614e-02 2.20879186e-03\n",
      " 2.43388523e-03 7.33744911e-04 1.45043190e-03 4.86045542e-03\n",
      " 1.32832611e-03 2.58467040e-02 4.91187782e-03 9.44167752e-03\n",
      " 7.25404496e-04 6.68948608e-02 1.60525771e-03 3.32968985e-04\n",
      " 1.27983835e-03 1.59513100e-03 5.13177919e-04 5.02724061e-04\n",
      " 1.96820980e-03 1.36846428e-04 6.74739550e-02 2.92172090e-02\n",
      " 3.40733803e-02 2.31258021e-02 3.34939476e-02 6.92173361e-03\n",
      " 1.62197501e-01 6.24266998e-03 4.03549592e-03 1.00790668e-02\n",
      " 8.78094126e-03 1.48016680e-02 2.83792437e-03 1.32929023e-02]\n",
      "<pandas.io.formats.style.Styler object at 0x000001F9A2389670>\n",
      "El proceso de selección de características para la variable objetivo REC_IM obtiene             un total de 75 características.\n"
     ]
    },
    {
     "name": "stderr",
     "output_type": "stream",
     "text": [
      "<ipython-input-5-d3de15a69c67>:24: SettingWithCopyWarning: \n",
      "A value is trying to be set on a copy of a slice from a DataFrame.\n",
      "Try using .loc[row_indexer,col_indexer] = value instead\n",
      "\n",
      "See the caveats in the documentation: https://pandas.pydata.org/pandas-docs/stable/user_guide/indexing.html#returning-a-view-versus-a-copy\n",
      "  X_train_caracterizado[\"var_objetivo\"] = var_objetivo\n",
      "<ipython-input-5-d3de15a69c67>:25: SettingWithCopyWarning: \n",
      "A value is trying to be set on a copy of a slice from a DataFrame.\n",
      "Try using .loc[row_indexer,col_indexer] = value instead\n",
      "\n",
      "See the caveats in the documentation: https://pandas.pydata.org/pandas-docs/stable/user_guide/indexing.html#returning-a-view-versus-a-copy\n",
      "  X_test_caracterizado[\"var_objetivo\"]  = var_objetivo\n",
      "D:\\Users\\coliverac\\Anaconda3\\lib\\site-packages\\pandas\\core\\frame.py:4308: SettingWithCopyWarning: \n",
      "A value is trying to be set on a copy of a slice from a DataFrame\n",
      "\n",
      "See the caveats in the documentation: https://pandas.pydata.org/pandas-docs/stable/user_guide/indexing.html#returning-a-view-versus-a-copy\n",
      "  return super().drop(\n",
      "<ipython-input-5-d3de15a69c67>:11: DataConversionWarning: A column-vector y was passed when a 1d array was expected. Please change the shape of y to (n_samples,), for example using ravel().\n",
      "  rf.fit(X_train, y_train)\n"
     ]
    },
    {
     "name": "stdout",
     "output_type": "stream",
     "text": [
      "[6.93388208e-03 2.25552375e-02 2.00788326e-02 3.54354069e-02\n",
      " 1.05403815e-01 3.54141577e-02 9.68383765e-03 1.52074584e-03\n",
      " 1.16390816e-02 8.91987730e-03 2.13847082e-03 3.59411103e-05\n",
      " 4.12633352e-04 2.29616584e-03 1.97261992e-03 2.71825367e-05\n",
      " 1.62409877e-04 0.00000000e+00 5.02104927e-04 3.39829492e-03\n",
      " 0.00000000e+00 9.42226026e-05 3.83858631e-05 6.81244627e-04\n",
      " 4.57837331e-03 1.22708990e-03 7.49961509e-04 4.97834754e-03\n",
      " 1.49825216e-02 9.46426576e-04 5.50288584e-05 2.12248182e-03\n",
      " 3.55325247e-02 2.82004689e-02 5.16864885e-03 2.94994372e-04\n",
      " 2.53369253e-03 3.28318814e-04 2.14647180e-04 4.69760505e-04\n",
      " 1.50640368e-01 2.04516573e-02 4.50909388e-02 8.63834247e-03\n",
      " 2.99201993e-03 5.14507952e-03 2.01015846e-03 2.45387855e-03\n",
      " 1.77238984e-03 4.20142745e-03 2.87534722e-03 6.25564321e-03\n",
      " 2.55131969e-03 7.97807607e-03 4.50799390e-03 1.80714209e-03\n",
      " 8.00301189e-04 4.12549342e-04 3.02582005e-04 8.57199744e-04\n",
      " 4.65344782e-04 1.60410441e-03 2.15115914e-03 5.45414070e-04\n",
      " 7.36536386e-04 3.55466648e-03 3.93565668e-03 1.09860321e-02\n",
      " 2.82038571e-03 4.13626311e-03 4.75202869e-03 7.63450235e-04\n",
      " 4.27506974e-03 3.51496796e-03 3.72597271e-05 1.91855167e-05\n",
      " 1.69748723e-05 2.79758869e-03 1.72564204e-02 1.85029193e-02\n",
      " 3.02658693e-02 4.38057065e-02 2.32481407e-02 9.38864264e-03\n",
      " 2.21465902e-02 8.65923424e-02 9.52905144e-03 9.38995508e-03\n",
      " 1.76054163e-02 7.06737425e-03 1.80731505e-03 1.28099155e-02]\n",
      "<pandas.io.formats.style.Styler object at 0x000001F9A15164F0>\n",
      "El proceso de selección de características para la variable objetivo P_IM_STEN obtiene             un total de 65 características.\n"
     ]
    },
    {
     "name": "stderr",
     "output_type": "stream",
     "text": [
      "<ipython-input-5-d3de15a69c67>:24: SettingWithCopyWarning: \n",
      "A value is trying to be set on a copy of a slice from a DataFrame.\n",
      "Try using .loc[row_indexer,col_indexer] = value instead\n",
      "\n",
      "See the caveats in the documentation: https://pandas.pydata.org/pandas-docs/stable/user_guide/indexing.html#returning-a-view-versus-a-copy\n",
      "  X_train_caracterizado[\"var_objetivo\"] = var_objetivo\n",
      "<ipython-input-5-d3de15a69c67>:25: SettingWithCopyWarning: \n",
      "A value is trying to be set on a copy of a slice from a DataFrame.\n",
      "Try using .loc[row_indexer,col_indexer] = value instead\n",
      "\n",
      "See the caveats in the documentation: https://pandas.pydata.org/pandas-docs/stable/user_guide/indexing.html#returning-a-view-versus-a-copy\n",
      "  X_test_caracterizado[\"var_objetivo\"]  = var_objetivo\n"
     ]
    }
   ],
   "source": [
    "X_TRAIN_CARACTERIZADO_DF = pd.DataFrame()\n",
    "X_TEST_CARACTERIZADO_DF  = pd.DataFrame()\n",
    "for var_objetivo in var_objetivo_lst:\n",
    "    \n",
    "    X_train = X_TRAIN_DF.loc[X_TRAIN_DF[\"var_objetivo\"] == var_objetivo]\n",
    "    X_test  = X_TEST_DF.loc[X_TEST_DF[\"var_objetivo\"] == var_objetivo] \n",
    "    y_train = Y_TRAIN_DF.loc[Y_TRAIN_DF[\"var_objetivo\"]== var_objetivo ,[var_objetivo]]\n",
    "    \n",
    "    X_train.drop([\"var_objetivo\"], axis=1, inplace=True)\n",
    "    rf = RandomForestRegressor(80, n_jobs=-1, oob_score=True)\n",
    "    rf.fit(X_train, y_train)\n",
    "\n",
    "    print(rf.feature_importances_)\n",
    "\n",
    "    importances = pd.DataFrame(\n",
    "        {\"columns\":X_train.columns, \n",
    "         \"importances\":rf.feature_importances_}).sort_values(\"importances\", ascending=False)\n",
    "\n",
    "    print(importances.style.bar())\n",
    "\n",
    "    columnas_importantes = importances.loc[importances.importances>=0.0009,\"columns\"].unique()\n",
    "    X_train_caracterizado = X_train[columnas_importantes]\n",
    "    X_test_caracterizado = X_test[columnas_importantes]\n",
    "    X_train_caracterizado[\"var_objetivo\"] = var_objetivo\n",
    "    X_test_caracterizado[\"var_objetivo\"]  = var_objetivo\n",
    "    \n",
    "    X_TRAIN_CARACTERIZADO_DF = pd.concat([X_TRAIN_CARACTERIZADO_DF,X_train_caracterizado], axis=0)\n",
    "    X_TEST_CARACTERIZADO_DF  = pd.concat([X_TEST_CARACTERIZADO_DF,X_test_caracterizado], axis=0)\n",
    "\n",
    "\n",
    "    print(f\"El proceso de selección de características para la variable objetivo {var_objetivo} obtiene \\\n",
    "            un total de {len(columnas_importantes)} características.\")"
   ]
  },
  {
   "cell_type": "markdown",
   "id": "d9c7c4b0",
   "metadata": {},
   "source": [
    "### <u>Nota:</u> \n",
    "<mark>En este experimento se considera valores mayores a 0.0009 porque ratios de importancia menores no aportan o \n",
    "aportan muy poco al modelo. Adicionalmente, se consideró este ratio de corte con el fin de no perder\n",
    "información significativa para el modelo. </mark>"
   ]
  },
  {
   "cell_type": "markdown",
   "id": "ca725275",
   "metadata": {},
   "source": [
    "### 3. Guardar resultados de la selección de características"
   ]
  },
  {
   "cell_type": "code",
   "execution_count": 6,
   "id": "a2064e0a",
   "metadata": {},
   "outputs": [],
   "source": [
    "X_TRAIN_CARACTERIZADO_DF.to_csv('data/03_entrada_modelo/X_MI_entrenamiento_caracterizado.csv',index=False)\n",
    "X_TEST_CARACTERIZADO_DF.to_csv('data/03_entrada_modelo/X_MI_pruebas_caracterizado.csv',index=False)\n",
    "\n",
    "Y_TRAIN_DF.to_csv('data/03_entrada_modelo/y_MI_entrenamiento_caracterizado.csv',index=False)\n",
    "Y_TEST_DF.to_csv('data/03_entrada_modelo/y_MI_pruebas_caracterizado.csv',index=False)"
   ]
  },
  {
   "cell_type": "code",
   "execution_count": 13,
   "id": "dee85810",
   "metadata": {},
   "outputs": [
    {
     "name": "stdout",
     "output_type": "stream",
     "text": [
      "69\n",
      "61\n",
      "59\n",
      "59\n",
      "60\n",
      "65\n",
      "55\n",
      "61\n",
      "73\n",
      "76\n",
      "66\n"
     ]
    }
   ],
   "source": [
    "sum_num = 0\n",
    "for var_objetivo in var_objetivo_lst:\n",
    "    num = len(X_TRAIN_CARACTERIZADO_DF.loc[X_TRAIN_CARACTERIZADO_DF[\"var_objetivo\"]==var_objetivo].dropna(axis='columns').columns.tolist())\n",
    "    \n",
    "    sum_num = sum_num + num\n",
    "    print(num)"
   ]
  },
  {
   "cell_type": "code",
   "execution_count": 15,
   "id": "b6bb8f07",
   "metadata": {},
   "outputs": [
    {
     "data": {
      "text/plain": [
       "64.0"
      ]
     },
     "execution_count": 15,
     "metadata": {},
     "output_type": "execute_result"
    }
   ],
   "source": [
    "sum_num/11"
   ]
  },
  {
   "cell_type": "code",
   "execution_count": null,
   "id": "de02f8ac",
   "metadata": {},
   "outputs": [],
   "source": []
  }
 ],
 "metadata": {
  "kernelspec": {
   "display_name": "Python 3",
   "language": "python",
   "name": "python3"
  },
  "language_info": {
   "codemirror_mode": {
    "name": "ipython",
    "version": 3
   },
   "file_extension": ".py",
   "mimetype": "text/x-python",
   "name": "python",
   "nbconvert_exporter": "python",
   "pygments_lexer": "ipython3",
   "version": "3.8.8"
  }
 },
 "nbformat": 4,
 "nbformat_minor": 5
}
